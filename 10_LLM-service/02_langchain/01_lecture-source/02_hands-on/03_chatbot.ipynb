{
 "cells": [
  {
   "cell_type": "markdown",
   "metadata": {},
   "source": [
    "# 간단한 챗봇 만들기"
   ]
  },
  {
   "cell_type": "markdown",
   "metadata": {},
   "source": [
    "1. Lang Smith 연결"
   ]
  },
  {
   "cell_type": "code",
   "execution_count": 1,
   "metadata": {},
   "outputs": [
    {
     "data": {
      "text/plain": [
       "True"
      ]
     },
     "execution_count": 1,
     "metadata": {},
     "output_type": "execute_result"
    }
   ],
   "source": [
    "from dotenv import load_dotenv\n",
    "\n",
    "load_dotenv(dotenv_path=\"../99_env/.env\")"
   ]
  },
  {
   "cell_type": "markdown",
   "metadata": {},
   "source": [
    "2. 모델 로드"
   ]
  },
  {
   "cell_type": "code",
   "execution_count": 4,
   "metadata": {},
   "outputs": [],
   "source": [
    "from langchain.chat_models import ChatOllama # 올라마 챗봇 만드는 라이브러리\n",
    "\n",
    "model = ChatOllama(\n",
    "    model = \"gemma2:2b\",\n",
    "    temperature=0.3\n",
    ")"
   ]
  },
  {
   "cell_type": "markdown",
   "metadata": {},
   "source": [
    "3. LLM과 대화하기"
   ]
  },
  {
   "cell_type": "code",
   "execution_count": 7,
   "metadata": {},
   "outputs": [
    {
     "data": {
      "text/plain": [
       "AIMessage(content='안녕하세요, 차은우님! 👋  \\n\\n무엇을 도와드릴까요? 😊 \\n', response_metadata={'model': 'gemma2:2b', 'created_at': '2024-09-06T00:54:15.5094284Z', 'message': {'role': 'assistant', 'content': ''}, 'done_reason': 'stop', 'done': True, 'total_duration': 770864700, 'load_duration': 96971800, 'prompt_eval_count': 18, 'prompt_eval_duration': 51424000, 'eval_count': 26, 'eval_duration': 618396000}, id='run-17bf38c5-8e3a-455f-95f2-99fcb6b9b563-0')"
      ]
     },
     "execution_count": 7,
     "metadata": {},
     "output_type": "execute_result"
    }
   ],
   "source": [
    "from langchain_core.messages import HumanMessage\n",
    "\n",
    "model.invoke([HumanMessage(content=\"안녕? 난 차은우야\")])"
   ]
  },
  {
   "cell_type": "code",
   "execution_count": 9,
   "metadata": {},
   "outputs": [
    {
     "data": {
      "text/plain": [
       "AIMessage(content='저는 Gemma입니다. 😊  무엇을 도와드릴까요? \\n', response_metadata={'model': 'gemma2:2b', 'created_at': '2024-09-06T00:55:37.6109214Z', 'message': {'role': 'assistant', 'content': ''}, 'done_reason': 'stop', 'done': True, 'total_duration': 791826000, 'load_duration': 94089000, 'prompt_eval_count': 16, 'prompt_eval_duration': 378400000, 'eval_count': 20, 'eval_duration': 316742000}, id='run-e7321179-aa9f-461b-8794-597640b479ef-0')"
      ]
     },
     "execution_count": 9,
     "metadata": {},
     "output_type": "execute_result"
    }
   ],
   "source": [
    "model.invoke([HumanMessage(content=\"내 이름이 뭐라고?\")]) # 상태라는 개념이 없어서 invoke로 대화를 '이어나갈' 수 없다! -> 어딘가에 저장할 필요가 있다"
   ]
  },
  {
   "cell_type": "code",
   "execution_count": 13,
   "metadata": {},
   "outputs": [
    {
     "data": {
      "text/plain": [
       "AIMessage(content=\"죄송하지만, 저는 당신의 이름을 기억할 수 없습니다.  다시 말씀해 주세요! 😊  \\n\\n(Sorry, I don't remember your name. Please tell me again!) \\n\", response_metadata={'model': 'gemma2:2b', 'created_at': '2024-09-06T00:59:39.1691834Z', 'message': {'role': 'assistant', 'content': ''}, 'done_reason': 'stop', 'done': True, 'total_duration': 1203411800, 'load_duration': 66866300, 'prompt_eval_count': 70, 'prompt_eval_duration': 363959000, 'eval_count': 48, 'eval_duration': 766640000}, id='run-52057d3e-80ec-4316-9368-97a2a44bb392-0')"
      ]
     },
     "execution_count": 13,
     "metadata": {},
     "output_type": "execute_result"
    }
   ],
   "source": [
    "from langchain_core.messages import AIMessage\n",
    "\n",
    "model.invoke(\n",
    "    [\n",
    "        # 이전 대화로 추론할 수 있게 한다.\n",
    "        HumanMessage(content=\"안녕? 난 차은우야. 나이는 20살이지\"), # 이전 질문\n",
    "        AIMessage(content=\"안녕? 차은우야. 반가워! 20살이라니 부럽구나\"), # 이전 대답\n",
    "        HumanMessage(content=\"내 이름이 뭐라고 했지?\") # 현재 질문\n",
    "        \n",
    "        # -> 이전 대화를 기억할 수 있게 memory를 사용한다.\n",
    "    ]\n",
    ")"
   ]
  },
  {
   "cell_type": "code",
   "execution_count": null,
   "metadata": {},
   "outputs": [],
   "source": []
  }
 ],
 "metadata": {
  "kernelspec": {
   "display_name": "pystudy_env",
   "language": "python",
   "name": "python3"
  },
  "language_info": {
   "codemirror_mode": {
    "name": "ipython",
    "version": 3
   },
   "file_extension": ".py",
   "mimetype": "text/x-python",
   "name": "python",
   "nbconvert_exporter": "python",
   "pygments_lexer": "ipython3",
   "version": "3.12.5"
  }
 },
 "nbformat": 4,
 "nbformat_minor": 2
}
