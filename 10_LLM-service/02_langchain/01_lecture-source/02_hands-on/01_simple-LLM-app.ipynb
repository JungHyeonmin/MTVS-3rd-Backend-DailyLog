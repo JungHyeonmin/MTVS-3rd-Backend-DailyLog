{
 "cells": [
  {
   "cell_type": "markdown",
   "metadata": {},
   "source": [
    "# 간단한 LLM 애플리케이션 만들기\n",
    "\n",
    "## 1. 환경변수 로드 및 LangSmith 연결"
   ]
  },
  {
   "cell_type": "code",
   "execution_count": 12,
   "metadata": {},
   "outputs": [
    {
     "data": {
      "text/plain": [
       "True"
      ]
     },
     "execution_count": 12,
     "metadata": {},
     "output_type": "execute_result"
    }
   ],
   "source": [
    "\n",
    "from dotenv import load_dotenv\n",
    "\n",
    "load_dotenv(dotenv_path=\"../99_env/.env\")"
   ]
  },
  {
   "cell_type": "markdown",
   "metadata": {},
   "source": [
    "## 2. LLM 모델 로딩"
   ]
  },
  {
   "cell_type": "code",
   "execution_count": 13,
   "metadata": {},
   "outputs": [],
   "source": [
    "from langchain_openai import ChatOpenAI\n",
    "\n",
    "model = ChatOpenAI(\n",
    "    model_name=\"gpt-4o-mini\",\n",
    "    temperature=0.1 # 창의성 (0.0 ~ 2.0)\n",
    ")"
   ]
  },
  {
   "cell_type": "markdown",
   "metadata": {},
   "source": [
    "## 3. 질문 작성"
   ]
  },
  {
   "cell_type": "code",
   "execution_count": 5,
   "metadata": {},
   "outputs": [],
   "source": [
    "question = \"포켓몬스터 중 가장 강력한 몬스터는 어떤 몬스터인가요?\""
   ]
  },
  {
   "cell_type": "markdown",
   "metadata": {},
   "source": [
    "## 4. LLM 추론"
   ]
  },
  {
   "cell_type": "code",
   "execution_count": 18,
   "metadata": {},
   "outputs": [
    {
     "data": {
      "text/plain": [
       "{'token_usage': {'completion_tokens': 196,\n",
       "  'prompt_tokens': 27,\n",
       "  'total_tokens': 223},\n",
       " 'model_name': 'gpt-4o-mini-2024-07-18',\n",
       " 'system_fingerprint': 'fp_f33667828e',\n",
       " 'finish_reason': 'stop',\n",
       " 'logprobs': None}"
      ]
     },
     "execution_count": 18,
     "metadata": {},
     "output_type": "execute_result"
    }
   ],
   "source": [
    "response = model.invoke(question)\n",
    "\n",
    "response.response_metadata"
   ]
  },
  {
   "cell_type": "markdown",
   "metadata": {},
   "source": [
    "# 5. 출력 파서를 이용한 출력"
   ]
  },
  {
   "cell_type": "code",
   "execution_count": 15,
   "metadata": {},
   "outputs": [
    {
     "data": {
      "text/plain": [
       "'포켓몬스터 세계에서 가장 강력한 몬스터는 주관적인 의견에 따라 다를 수 있지만, 일반적으로 \"아르세우스\"가 가장 강력한 포켓몬으로 여겨집니다. 아르세우스는 \"신의 포켓몬\"으로 불리며, 모든 포켓몬의 창조주로 알려져 있습니다. 또한, 아르세우스는 다양한 타입으로 변환할 수 있는 능력을 가지고 있어 매우 유연한 전투 스타일을 자랑합니다.\\n\\n또한, \"뮤츠\"와 \"레지기가스\" 같은 포켓몬들도 강력한 포켓몬으로 자주 언급됩니다. 각 포켓몬의 강력함은 전투 상황, 전략, 그리고 훈련자의 기술에 따라 달라질 수 있습니다.'"
      ]
     },
     "execution_count": 15,
     "metadata": {},
     "output_type": "execute_result"
    }
   ],
   "source": [
    "from langchain_core.output_parsers import StrOutputParser\n",
    "\n",
    "parser = StrOutputParser() # 문자열로 파싱\n",
    "\n",
    "parser.invoke(response)"
   ]
  },
  {
   "cell_type": "markdown",
   "metadata": {},
   "source": [
    "# Appendix"
   ]
  },
  {
   "cell_type": "markdown",
   "metadata": {},
   "source": [
    "1. (|) 연산자를 사용하여 모델 파서 연결"
   ]
  },
  {
   "cell_type": "code",
   "execution_count": 17,
   "metadata": {},
   "outputs": [
    {
     "data": {
      "text/plain": [
       "'포켓몬스터 세계에서 가장 강력한 몬스터는 주관적인 의견에 따라 다를 수 있지만, 일반적으로 \"아르세우스\"가 가장 강력한 포켓몬으로 여겨집니다. 아르세우스는 \"신의 포켓몬\"으로 불리며, 모든 포켓몬의 창조주로 알려져 있습니다. 또한, 아르세우스는 다양한 타입으로 변신할 수 있는 능력을 가지고 있어 매우 강력한 전투력을 자랑합니다.\\n\\n또한, \"메가 레쿠자\"나 \"프리즘 레쿠자\"와 같은 포켓몬들도 강력한 성능을 가지고 있어 많은 팬들에게 사랑받고 있습니다. 각 포켓몬의 강력함은 상황과 전략에 따라 달라질 수 있으므로, 어떤 포켓몬이 가장 강력한지는 플레이어의 선택과 전투 스타일에 따라 다를 수 있습니다.'"
      ]
     },
     "execution_count": 17,
     "metadata": {},
     "output_type": "execute_result"
    }
   ],
   "source": [
    "chain = model | parser # LLM 서비스를 체인 형태로 파서해서 제공\n",
    "\n",
    "chain.invoke(question)"
   ]
  },
  {
   "cell_type": "markdown",
   "metadata": {},
   "source": [
    "2. 프롬프트 템플릿 사용하기"
   ]
  },
  {
   "cell_type": "code",
   "execution_count": 22,
   "metadata": {},
   "outputs": [
    {
     "data": {
      "text/plain": [
       "'안녕하세요'"
      ]
     },
     "execution_count": 22,
     "metadata": {},
     "output_type": "execute_result"
    }
   ],
   "source": [
    "from langchain_core.prompts import ChatPromptTemplate\n",
    "\n",
    "system_message = \"Translate the following into {language}\"\n",
    "human_message = \"{message}\"\n",
    "\n",
    "prompt_template = ChatPromptTemplate.from_messages(\n",
    "    [\n",
    "        (\"system\", system_message),\n",
    "        (\"user\", human_message)\n",
    "    ]\n",
    ")\n",
    "\n",
    "# prompt_template.invoke({\"language\": \"Korean\", \"message\": \"hello\"})\n",
    "\n",
    "chain = prompt_template | model | parser\n",
    "chain.invoke({\"language\": \"Korean\", \"message\" : \"hello\"})"
   ]
  }
 ],
 "metadata": {
  "kernelspec": {
   "display_name": "pystudy_env",
   "language": "python",
   "name": "python3"
  },
  "language_info": {
   "codemirror_mode": {
    "name": "ipython",
    "version": 3
   },
   "file_extension": ".py",
   "mimetype": "text/x-python",
   "name": "python",
   "nbconvert_exporter": "python",
   "pygments_lexer": "ipython3",
   "version": "3.12.5"
  }
 },
 "nbformat": 4,
 "nbformat_minor": 2
}
