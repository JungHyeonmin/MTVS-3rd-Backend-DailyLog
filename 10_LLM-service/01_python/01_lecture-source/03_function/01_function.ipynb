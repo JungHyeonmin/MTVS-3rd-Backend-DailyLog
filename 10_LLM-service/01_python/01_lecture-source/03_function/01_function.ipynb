{
 "cells": [
  {
   "cell_type": "markdown",
   "metadata": {},
   "source": [
    "# 01. 함수\n",
    "## 01-01. 함수 개요\n",
    "### 01-01-01. 함수란\n",
    "### 01-01-02. 함수 표현식"
   ]
  },
  {
   "cell_type": "code",
   "execution_count": 4,
   "metadata": {},
   "outputs": [
    {
     "name": "stdout",
     "output_type": "stream",
     "text": [
      "hello world!\n"
     ]
    }
   ],
   "source": [
    "def basic_function():\n",
    "    print(\"hello world!\")\n",
    "\n",
    "basic_function()"
   ]
  },
  {
   "cell_type": "code",
   "execution_count": 6,
   "metadata": {},
   "outputs": [
    {
     "name": "stdout",
     "output_type": "stream",
     "text": [
      "홍길동  :  안녕하세요\n"
     ]
    }
   ],
   "source": [
    "def greeting(name, greet): # (a,b): a,b는 매개변수\n",
    "    print(name, \" : \", greet)\n",
    "\n",
    "greeting(\"홍길동\", \"안녕하세요\")"
   ]
  },
  {
   "cell_type": "markdown",
   "metadata": {},
   "source": [
    "# 01-02-02. 인자"
   ]
  },
  {
   "cell_type": "markdown",
   "metadata": {},
   "source": []
  },
  {
   "cell_type": "code",
   "execution_count": 12,
   "metadata": {},
   "outputs": [
    {
     "name": "stdout",
     "output_type": "stream",
     "text": [
      "tiger님이 가장 좋아하는 색상은 orange입니다.\n",
      "monkey님이 가장 좋아하는 색상은 black입니다.\n",
      "monkey님이 가장 좋아하는 색상은 black입니다.\n"
     ]
    }
   ],
   "source": [
    "def information(name, color) :\n",
    "    print(name + \"님이 가장 좋아하는 색상은 \" + color + \"입니다.\")\n",
    "\n",
    "# 위치 인자 - 매개변수 위치와 순서가 중요!!\n",
    "information(\"tiger\", \"orange\")\n",
    "\n",
    "# 키워드 인자 - 매개변수 키와값을 잘 맞춰서 선언해준다. 위치는 상관없음!\n",
    "information(color=\"black\", name=\"monkey\")\n",
    "\n",
    "# 섞어서 써도 가능하다\n",
    "information(\"monkey\", color=\"black\")"
   ]
  },
  {
   "cell_type": "markdown",
   "metadata": {},
   "source": [
    "## 01-03. 반환값\n",
    "### 01-03-01. return"
   ]
  },
  {
   "cell_type": "code",
   "execution_count": 13,
   "metadata": {},
   "outputs": [
    {
     "data": {
      "text/plain": [
       "'안녕하세요! 저는 정현민인니다.'"
      ]
     },
     "execution_count": 13,
     "metadata": {},
     "output_type": "execute_result"
    }
   ],
   "source": [
    "def introduce(name):\n",
    "    return f\"안녕하세요! 저는 \" + name+ \"인니다.\"\n",
    "\n",
    "introduce(\"정현민\")"
   ]
  },
  {
   "cell_type": "code",
   "execution_count": 5,
   "metadata": {},
   "outputs": [
    {
     "name": "stdout",
     "output_type": "stream",
     "text": [
      "6\n"
     ]
    }
   ],
   "source": [
    "def sum(a,b,c):\n",
    "    return a + b + c\n",
    "\n",
    "print(sum(1,2,3))"
   ]
  }
 ],
 "metadata": {
  "kernelspec": {
   "display_name": "base",
   "language": "python",
   "name": "python3"
  },
  "language_info": {
   "codemirror_mode": {
    "name": "ipython",
    "version": 3
   },
   "file_extension": ".py",
   "mimetype": "text/x-python",
   "name": "python",
   "nbconvert_exporter": "python",
   "pygments_lexer": "ipython3",
   "version": "3.10.14"
  }
 },
 "nbformat": 4,
 "nbformat_minor": 2
}
