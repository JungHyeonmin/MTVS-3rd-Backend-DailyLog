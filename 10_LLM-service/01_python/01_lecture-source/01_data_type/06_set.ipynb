{
 "cells": [
  {
   "cell_type": "markdown",
   "metadata": {},
   "source": [
    "# 06. 셋(Set)"
   ]
  },
  {
   "cell_type": "markdown",
   "metadata": {},
   "source": [
    "## 06-01. 셋 개요\n",
    "### 06-01-01. 셋이란\n",
    "> 중복된 요소를 허용하지 않으며 순서 없이 요소를 저장하는 컬렉션이다."
   ]
  },
  {
   "cell_type": "markdown",
   "metadata": {},
   "source": [
    "### 06-01-02. 셋 표현식\n",
    "- 중괄호 {}를 사용해서 집합을 생성한다"
   ]
  },
  {
   "cell_type": "code",
   "execution_count": 4,
   "metadata": {},
   "outputs": [
    {
     "name": "stdout",
     "output_type": "stream",
     "text": [
      "{'gorilla', 'koala', 'squirrel', 'bear'}\n",
      "{1, 2, 3, 4, 5}\n",
      "{1, (1, 2, 3), 'bear'}\n"
     ]
    }
   ],
   "source": [
    "safari_set = {\"bear\", \"koala\", \"gorilla\", \"squirrel\"}\n",
    "print(safari_set)\n",
    "\n",
    "numbers = {1, 2, 3, 4, 5}\n",
    "print(numbers)\n",
    "\n",
    "mixed_set = {1, \"bear\", (1, 2, 3)}\n",
    "print(mixed_set)"
   ]
  },
  {
   "cell_type": "markdown",
   "metadata": {},
   "source": [
    "- set()을 사용해 형변환도 가능하다"
   ]
  },
  {
   "cell_type": "code",
   "execution_count": 5,
   "metadata": {},
   "outputs": [
    {
     "name": "stdout",
     "output_type": "stream",
     "text": [
      "{'wolf', 'monkey', 'tiger'}\n"
     ]
    }
   ],
   "source": [
    "another_safari_set = set([\"monkey\", \"tiger\", \"wolf\"])\n",
    "print(another_safari_set)"
   ]
  },
  {
   "cell_type": "markdown",
   "metadata": {},
   "source": [
    "### 06-01-03. 셋의 특징\n",
    "1. 순서가 없는 자료형이며, 순서가 없으므로 인덱스를 사용한 접근이 불가능하다."
   ]
  },
  {
   "cell_type": "code",
   "execution_count": 6,
   "metadata": {},
   "outputs": [
    {
     "ename": "TypeError",
     "evalue": "'set' object is not subscriptable",
     "output_type": "error",
     "traceback": [
      "\u001b[1;31m---------------------------------------------------------------------------\u001b[0m",
      "\u001b[1;31mTypeError\u001b[0m                                 Traceback (most recent call last)",
      "Cell \u001b[1;32mIn[6], line 2\u001b[0m\n\u001b[0;32m      1\u001b[0m ohgiraffers \u001b[38;5;241m=\u001b[39m {\u001b[38;5;124m\"\u001b[39m\u001b[38;5;124mpig\u001b[39m\u001b[38;5;124m\"\u001b[39m, \u001b[38;5;124m\"\u001b[39m\u001b[38;5;124msquirell\u001b[39m\u001b[38;5;124m\"\u001b[39m, \u001b[38;5;124m\"\u001b[39m\u001b[38;5;124mbear\u001b[39m\u001b[38;5;124m\"\u001b[39m, \u001b[38;5;124m\"\u001b[39m\u001b[38;5;124mgorilla\u001b[39m\u001b[38;5;124m\"\u001b[39m}\n\u001b[1;32m----> 2\u001b[0m \u001b[38;5;28mprint\u001b[39m(\u001b[43mohgiraffers\u001b[49m\u001b[43m[\u001b[49m\u001b[38;5;241;43m0\u001b[39;49m\u001b[43m]\u001b[49m)\n",
      "\u001b[1;31mTypeError\u001b[0m: 'set' object is not subscriptable"
     ]
    }
   ],
   "source": [
    "ohgiraffers = {\"pig\", \"squirell\", \"bear\", \"gorilla\"}\n",
    "print(ohgiraffers[0])"
   ]
  },
  {
   "cell_type": "markdown",
   "metadata": {},
   "source": [
    "2. 중복을 허용하지 않으므로 동일한 값은 하나만 저장된다."
   ]
  },
  {
   "cell_type": "code",
   "execution_count": 7,
   "metadata": {},
   "outputs": [
    {
     "name": "stdout",
     "output_type": "stream",
     "text": [
      "{'squirrel', 'pig', 'gorilla', 'bear'}\n"
     ]
    }
   ],
   "source": [
    "ohgiraffers = {\"pig\", \"squirrel\", \"bear\", \"gorilla\", \"gorilla\"}\n",
    "print(ohgiraffers)"
   ]
  },
  {
   "cell_type": "markdown",
   "metadata": {},
   "source": [
    "3. 가변성을 가진 자료형으로 데이터, 즉 요소를 추가하거나 제거할 수 있다.\n",
    "- 순서가 없는 자료형으로 특정 요소에 접근할 수 없으므로 직접 변경은 할 수 없다."
   ]
  },
  {
   "cell_type": "code",
   "execution_count": 11,
   "metadata": {},
   "outputs": [
    {
     "name": "stdout",
     "output_type": "stream",
     "text": [
      "{'squirrel', 'pig', 'gorilla', 'bear'}\n",
      "{'squirrel', 'pig', 'bear'}\n",
      "{'squirrel', 'pig', 'gorilla', 'bear'}\n"
     ]
    }
   ],
   "source": [
    "ohgiraffers = {\"pig\", \"squirrel\", \"bear\", \"gorilla\"}\n",
    "\n",
    "print(ohgiraffers)\n",
    "ohgiraffers.remove(\"gorilla\")\n",
    "print(ohgiraffers)\n",
    "ohgiraffers.add(\"gorilla\")\n",
    "print(ohgiraffers)"
   ]
  },
  {
   "cell_type": "markdown",
   "metadata": {},
   "source": [
    "4. 다양한 데이터 타입을 지원한다."
   ]
  },
  {
   "cell_type": "code",
   "execution_count": 13,
   "metadata": {},
   "outputs": [
    {
     "name": "stdout",
     "output_type": "stream",
     "text": [
      "{1, 2, 3.0, 'squirrel', 'pig', 'bear'}\n"
     ]
    }
   ],
   "source": [
    "ohgiraffers = {1, \"squirrel\", 2, \"bear\", \"pig\", 3.0}\n",
    "print(ohgiraffers)"
   ]
  },
  {
   "cell_type": "markdown",
   "metadata": {},
   "source": [
    "5. 수학적 집합 연산(합집합, 교집합, 차집합)을 지원한다.\n",
    "6. in 키워드를 통해 포함 여부를 반환받을 수 있다."
   ]
  },
  {
   "cell_type": "code",
   "execution_count": 14,
   "metadata": {},
   "outputs": [
    {
     "name": "stdout",
     "output_type": "stream",
     "text": [
      "True\n"
     ]
    }
   ],
   "source": [
    "java_team = {\"tiger\", \"wolf\", \"sheep\", \"monkey\"}\n",
    "print('tiger' in java_team)"
   ]
  },
  {
   "cell_type": "markdown",
   "metadata": {},
   "source": [
    "## 06-02. 셋의 메소드\n",
    "### 06-02-01. 요소를 추가하는 메소드\n",
    "1. add()"
   ]
  },
  {
   "cell_type": "code",
   "execution_count": 15,
   "metadata": {},
   "outputs": [
    {
     "name": "stdout",
     "output_type": "stream",
     "text": [
      "{'tiger', 'pig', 'elephant'}\n"
     ]
    }
   ],
   "source": [
    "ohgiraffers = {\"pig\", \"tiger\"}\n",
    "ohgiraffers.add(\"elephant\")\n",
    "print(ohgiraffers)"
   ]
  },
  {
   "cell_type": "markdown",
   "metadata": {},
   "source": [
    "2. update()"
   ]
  },
  {
   "cell_type": "code",
   "execution_count": 16,
   "metadata": {},
   "outputs": [
    {
     "name": "stdout",
     "output_type": "stream",
     "text": [
      "{'wolf', 'monkey', 'tiger'}\n",
      "{'wolf', 'monkey', 'tiger', 'sheep'}\n"
     ]
    }
   ],
   "source": [
    "ohgiraffers = set([\"monkey\", \"tiger\", \"wolf\"])\n",
    "print(ohgiraffers)\n",
    "\n",
    "ohgiraffers.update([\"monkey\", \"wolf\", \"tiger\", \"sheep\"])\n",
    "print(ohgiraffers)"
   ]
  },
  {
   "cell_type": "markdown",
   "metadata": {},
   "source": [
    "### 06-02-02. 요소를 제거하는 메소드"
   ]
  },
  {
   "cell_type": "markdown",
   "metadata": {},
   "source": [
    "1. remove()"
   ]
  },
  {
   "cell_type": "code",
   "execution_count": 19,
   "metadata": {},
   "outputs": [
    {
     "name": "stdout",
     "output_type": "stream",
     "text": [
      "{'squirrel', 'pig', 'gorilla', 'bear'}\n",
      "{'squirrel', 'gorilla', 'bear'}\n"
     ]
    },
    {
     "ename": "KeyError",
     "evalue": "'koala'",
     "output_type": "error",
     "traceback": [
      "\u001b[1;31m---------------------------------------------------------------------------\u001b[0m",
      "\u001b[1;31mKeyError\u001b[0m                                  Traceback (most recent call last)",
      "Cell \u001b[1;32mIn[19], line 7\u001b[0m\n\u001b[0;32m      4\u001b[0m ohgiraffers\u001b[38;5;241m.\u001b[39mremove(\u001b[38;5;124m'\u001b[39m\u001b[38;5;124mpig\u001b[39m\u001b[38;5;124m'\u001b[39m)\n\u001b[0;32m      5\u001b[0m \u001b[38;5;28mprint\u001b[39m(ohgiraffers)\n\u001b[1;32m----> 7\u001b[0m \u001b[43mohgiraffers\u001b[49m\u001b[38;5;241;43m.\u001b[39;49m\u001b[43mremove\u001b[49m\u001b[43m(\u001b[49m\u001b[38;5;124;43m'\u001b[39;49m\u001b[38;5;124;43mkoala\u001b[39;49m\u001b[38;5;124;43m'\u001b[39;49m\u001b[43m)\u001b[49m\n",
      "\u001b[1;31mKeyError\u001b[0m: 'koala'"
     ]
    }
   ],
   "source": [
    "ohgiraffers = {'pig', 'squirrel', 'bear', 'gorilla'}\n",
    "print(ohgiraffers)\n",
    "\n",
    "ohgiraffers.remove('pig')\n",
    "print(ohgiraffers)\n",
    "\n",
    "ohgiraffers.remove('koala')"
   ]
  },
  {
   "cell_type": "markdown",
   "metadata": {},
   "source": [
    "2. discard()"
   ]
  },
  {
   "cell_type": "code",
   "execution_count": 20,
   "metadata": {},
   "outputs": [
    {
     "name": "stdout",
     "output_type": "stream",
     "text": [
      "{'squirrel', 'gorilla', 'bear'}\n"
     ]
    }
   ],
   "source": [
    "ohgiraffers.discard('elephant')\n",
    "print(ohgiraffers)"
   ]
  },
  {
   "cell_type": "markdown",
   "metadata": {},
   "source": [
    "3. pop()"
   ]
  },
  {
   "cell_type": "code",
   "execution_count": 21,
   "metadata": {},
   "outputs": [
    {
     "name": "stdout",
     "output_type": "stream",
     "text": [
      "{'gorilla', 'bear'}\n"
     ]
    }
   ],
   "source": [
    "ohgiraffers.pop()\n",
    "print(ohgiraffers)"
   ]
  },
  {
   "cell_type": "markdown",
   "metadata": {},
   "source": [
    "4. clear()"
   ]
  },
  {
   "cell_type": "code",
   "execution_count": 22,
   "metadata": {},
   "outputs": [
    {
     "name": "stdout",
     "output_type": "stream",
     "text": [
      "set()\n"
     ]
    }
   ],
   "source": [
    "ohgiraffers.clear()\n",
    "print(ohgiraffers)"
   ]
  },
  {
   "cell_type": "markdown",
   "metadata": {},
   "source": [
    "### 06-02-03. 집합 연산 메소드\n",
    "1. union : 두 set을 합친다 (=합집합)"
   ]
  },
  {
   "cell_type": "code",
   "execution_count": 24,
   "metadata": {},
   "outputs": [
    {
     "name": "stdout",
     "output_type": "stream",
     "text": [
      "{'squirrel', 'monkey', 'gorilla', 'wolf', 'tiger', 'pig', 'bear', 'sheep'}\n",
      "{'squirrel', 'monkey', 'gorilla', 'wolf', 'tiger', 'pig', 'bear', 'sheep'}\n"
     ]
    }
   ],
   "source": [
    "java_team = {\"squirrel\", \"gorilla\", \"tiger\", \"sheep\", \"monkey\", \"wolf\"}\n",
    "python_team = {\"pig\", \"squirrel\", \"bear\", \"gorilla\"}\n",
    "\n",
    "ohgiraffers = java_team.union(python_team)\n",
    "print(ohgiraffers)\n",
    "\n",
    "print(java_team | python_team)"
   ]
  },
  {
   "cell_type": "markdown",
   "metadata": {},
   "source": [
    "2. intersection() : 두 set 자료형의 교집합을 반환한다."
   ]
  },
  {
   "cell_type": "code",
   "execution_count": 26,
   "metadata": {},
   "outputs": [
    {
     "name": "stdout",
     "output_type": "stream",
     "text": [
      "{'squirrel', 'gorilla'}\n",
      "{'squirrel', 'gorilla'}\n"
     ]
    }
   ],
   "source": [
    "print(java_team.intersection(python_team))\n",
    "print(java_team & python_team)"
   ]
  },
  {
   "cell_type": "markdown",
   "metadata": {},
   "source": [
    "3. difference() : 좌 항을 기준으로 우 항의 차집합을 반환한다."
   ]
  },
  {
   "cell_type": "code",
   "execution_count": 28,
   "metadata": {},
   "outputs": [
    {
     "name": "stdout",
     "output_type": "stream",
     "text": [
      "{'wolf', 'monkey', 'tiger', 'sheep'}\n",
      "{'wolf', 'monkey', 'tiger', 'sheep'}\n"
     ]
    }
   ],
   "source": [
    "print(java_team.difference(python_team))\n",
    "print(java_team - python_team)"
   ]
  },
  {
   "cell_type": "markdown",
   "metadata": {},
   "source": [
    "4. symmetric_difference() : 대칭 차집합을 반환한다. (양쪽 모두의 차집합을 반환한다.)"
   ]
  },
  {
   "cell_type": "code",
   "execution_count": 30,
   "metadata": {},
   "outputs": [
    {
     "name": "stdout",
     "output_type": "stream",
     "text": [
      "{'monkey', 'wolf', 'pig', 'tiger', 'bear', 'sheep'}\n",
      "{'monkey', 'wolf', 'pig', 'tiger', 'bear', 'sheep'}\n"
     ]
    }
   ],
   "source": [
    "print(java_team.symmetric_difference(python_team))\n",
    "print(java_team ^ python_team)"
   ]
  },
  {
   "cell_type": "markdown",
   "metadata": {},
   "source": [
    "### 06-02-04. 복사메소드\n",
    "1. copy() : 대상 set을 복사하여 반환한다."
   ]
  },
  {
   "cell_type": "code",
   "execution_count": 32,
   "metadata": {},
   "outputs": [
    {
     "name": "stdout",
     "output_type": "stream",
     "text": [
      "{'wolf', 'monkey', 'tiger', 'sheep'}\n",
      "{'wolf', 'monkey', 'tiger', 'sheep'}\n",
      "{'wolf', 'monkey', 'tiger', 'sheep'}\n",
      "{'wolf', 'monkey', 'sheep'}\n"
     ]
    }
   ],
   "source": [
    "ohgiraffers = {\"tiger\", \"wolf\", \"monkey\", \"sheep\"}\n",
    "zzap_ohgiraffers = ohgiraffers.copy()\n",
    "\n",
    "print(ohgiraffers)\n",
    "print(zzap_ohgiraffers)\n",
    "\n",
    "zzap_ohgiraffers.remove(\"tiger\")\n",
    "print(ohgiraffers)\n",
    "print(zzap_ohgiraffers)"
   ]
  }
 ],
 "metadata": {
  "kernelspec": {
   "display_name": "pystudy_env",
   "language": "python",
   "name": "python3"
  },
  "language_info": {
   "codemirror_mode": {
    "name": "ipython",
    "version": 3
   },
   "file_extension": ".py",
   "mimetype": "text/x-python",
   "name": "python",
   "nbconvert_exporter": "python",
   "pygments_lexer": "ipython3",
   "version": "3.12.5"
  }
 },
 "nbformat": 4,
 "nbformat_minor": 2
}
