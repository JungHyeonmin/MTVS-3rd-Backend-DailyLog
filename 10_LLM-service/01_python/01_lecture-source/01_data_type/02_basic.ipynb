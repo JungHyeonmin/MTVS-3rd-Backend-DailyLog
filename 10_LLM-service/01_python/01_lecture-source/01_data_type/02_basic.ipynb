{
 "cells": [
  {
   "cell_type": "markdown",
   "metadata": {},
   "source": [
    "# 02. 기본자료형"
   ]
  },
  {
   "cell_type": "markdown",
   "metadata": {},
   "source": [
    "## 02-01. 숫자형(Numeric)\n",
    "### 02-01-01. 숫자 자료형의 종류"
   ]
  },
  {
   "cell_type": "code",
   "execution_count": 24,
   "metadata": {},
   "outputs": [
    {
     "name": "stdout",
     "output_type": "stream",
     "text": [
      "<class 'int'>\n",
      "<class 'int'>\n",
      "<class 'float'>\n",
      "<class 'float'>\n",
      "<class 'float'>\n"
     ]
    }
   ],
   "source": [
    "# int\n",
    "num1 = 1\n",
    "num2 = -1\n",
    "\n",
    "print(type(num1))\n",
    "print(type(num2))\n",
    "\n",
    "# float\n",
    "num3 =3.14\n",
    "num4 = 1.0\n",
    "\n",
    "print(type(num3))\n",
    "print(type(num4))\n",
    "\n",
    "# complex\n",
    "num5 = 4\n",
    "print(type(num4))"
   ]
  },
  {
   "cell_type": "markdown",
   "metadata": {},
   "source": [
    "### 02-01-02. 숫자 자료형의 연산\n",
    "- 사칙연산"
   ]
  },
  {
   "cell_type": "code",
   "execution_count": 12,
   "metadata": {},
   "outputs": [
    {
     "name": "stdout",
     "output_type": "stream",
     "text": [
      "13\n",
      "7\n",
      "30\n",
      "3.3333333333333335\n",
      "1\n",
      "\n",
      "10.1\n",
      "9.9\n",
      "1.0\n",
      "100.0\n"
     ]
    }
   ],
   "source": [
    "num1 = 10\n",
    "num2 = 3\n",
    "\n",
    "print(num1 + num2)\n",
    "print(num1 - num2)\n",
    "print(num1 * num2)\n",
    "print(num1 / num2)\n",
    "print(num1 % num2)\n",
    "\n",
    "print()\n",
    "# 서로 다른 자료형\n",
    "\n",
    "num3 = 10\n",
    "num4 = 0.1\n",
    "\n",
    "print(num3 + num4)\n",
    "print(num3 - num4)\n",
    "print(num3 * num4)\n",
    "print(num3 / num4)"
   ]
  },
  {
   "cell_type": "markdown",
   "metadata": {},
   "source": [
    "- 나눗셈 나머지 연산과 몫 연산"
   ]
  },
  {
   "cell_type": "code",
   "execution_count": 13,
   "metadata": {},
   "outputs": [
    {
     "name": "stdout",
     "output_type": "stream",
     "text": [
      "1.5714285714285714\n",
      "4\n",
      "1\n"
     ]
    }
   ],
   "source": [
    "num1 = 11\n",
    "num2 = 7\n",
    "\n",
    "# 나눗셈 연산\n",
    "print(num1 / num2)\n",
    "\n",
    "# 나머지 연산\n",
    "print(num1 % num2)\n",
    "\n",
    "# 몫만 구하는 연산\n",
    "print(num1 // num2)"
   ]
  },
  {
   "cell_type": "markdown",
   "metadata": {},
   "source": [
    "- 제곱 연산"
   ]
  },
  {
   "cell_type": "code",
   "execution_count": 19,
   "metadata": {},
   "outputs": [
    {
     "name": "stdout",
     "output_type": "stream",
     "text": [
      "81\n"
     ]
    }
   ],
   "source": [
    "base = 9\n",
    "exponent = 2\n",
    "\n",
    "print(base ** exponent)"
   ]
  },
  {
   "cell_type": "markdown",
   "metadata": {},
   "source": [
    "## 02-02. 논리형 (Boolean)\n",
    "### 02-02-01. 논리 자료형\n",
    "- True 또는 False 값을 가지는 자료형"
   ]
  },
  {
   "cell_type": "code",
   "execution_count": 20,
   "metadata": {},
   "outputs": [
    {
     "name": "stdout",
     "output_type": "stream",
     "text": [
      "<class 'bool'>\n",
      "<class 'bool'>\n"
     ]
    }
   ],
   "source": [
    "bool1 = True\n",
    "bool2 = False\n",
    "\n",
    "print(type(bool1))\n",
    "print(type(bool2))"
   ]
  },
  {
   "cell_type": "markdown",
   "metadata": {},
   "source": [
    "### 02-02-02. 논리 자료형의 연산\n",
    "- 비교연산"
   ]
  },
  {
   "cell_type": "code",
   "execution_count": 27,
   "metadata": {},
   "outputs": [
    {
     "name": "stdout",
     "output_type": "stream",
     "text": [
      "False\n",
      "True\n",
      "True\n",
      "False\n",
      "False\n",
      "True\n"
     ]
    }
   ],
   "source": [
    "print(1 == 3)\n",
    "print('ohgiraffers' != 'Ohgiraffers')\n",
    "# __eq__ : 매직 메서드\n",
    "\n",
    "print (100> 95)\n",
    "print (100< 95)\n",
    "print (0 >= 1)\n",
    "print (0 <= 1)"
   ]
  },
  {
   "cell_type": "markdown",
   "metadata": {},
   "source": [
    "- 논리 연산"
   ]
  },
  {
   "cell_type": "code",
   "execution_count": 28,
   "metadata": {},
   "outputs": [
    {
     "name": "stdout",
     "output_type": "stream",
     "text": [
      "False\n",
      "True\n",
      "True\n"
     ]
    }
   ],
   "source": [
    "print(1 != 3 and 100 and 100 > 999 and True)\n",
    "print(1 != 3 or 100>99 or True)\n",
    "\n",
    "# 논리 연산자를 연결해서 사용 가능하다.\n",
    "print(1 <= 50 <= 100)\n",
    "\n",
    "print(not True)\n"
   ]
  },
  {
   "cell_type": "markdown",
   "metadata": {},
   "source": [
    "## 02-03. 문자형(String)\n",
    "### 02-03-01. 문자형 선언\n",
    "- 쌍따옴표와 홀따옴표를 사용하여 문자형 리터럴을 선언할 수 있다."
   ]
  },
  {
   "cell_type": "code",
   "execution_count": 29,
   "metadata": {},
   "outputs": [],
   "source": [
    "my_name = 'Tiger'"
   ]
  },
  {
   "cell_type": "markdown",
   "metadata": {},
   "source": [
    "- 삼중 따옴표를 사용해 여러 줄(멀티라인)으로 선언하는 것도 가능하다."
   ]
  },
  {
   "cell_type": "code",
   "execution_count": 30,
   "metadata": {},
   "outputs": [],
   "source": [
    "text = \"\"\"\n",
    "세상에서 제일 긴 게 뭘까요?\n",
    "기차? 기린의 목? 코끼리의 코?\n",
    "전부 아닙니다.\n",
    "여러분의 무한한 가능성입니다.\n",
    "\"\"\""
   ]
  },
  {
   "cell_type": "markdown",
   "metadata": {},
   "source": [
    "### 02-03-02. 문자형 연산\n",
    "- 문자열 이어붙이기 : +"
   ]
  },
  {
   "cell_type": "code",
   "execution_count": 35,
   "metadata": {},
   "outputs": [
    {
     "name": "stdout",
     "output_type": "stream",
     "text": [
      "반갑습니다람쥐\n",
      "반갑습니다. 다람쥐입니다!\n"
     ]
    }
   ],
   "source": [
    "greeting = '반갑습니'\n",
    "name = '다람쥐'\n",
    "\n",
    "print(greeting + name)\n",
    "print(greeting + \"다. \" + name+\"입니다!\")\n",
    "\n",
    "# print(900 + \"살 \" + name+\"입니다.\") 문자열 + 숫자는 불가능\n"
   ]
  },
  {
   "cell_type": "markdown",
   "metadata": {},
   "source": [
    "- 문자열 반복하기"
   ]
  },
  {
   "cell_type": "code",
   "execution_count": 36,
   "metadata": {},
   "outputs": [
    {
     "name": "stdout",
     "output_type": "stream",
     "text": [
      "무슨 일이든 시작 전에 세 번만 외쳐보자. 나는 python을 잘 할 수 있다!나는 python을 잘 할 수 있다!나는 python을 잘 할 수 있다!\n"
     ]
    }
   ],
   "source": [
    "subject = \"python\"\n",
    "print(\"무슨 일이든 시작 전에 세 번만 외쳐보자. \" + (\"나는 \" + subject + \"을 잘 할 수 있다!\") * 3) # 문자열에 사칙연산 가능!!"
   ]
  },
  {
   "cell_type": "markdown",
   "metadata": {},
   "source": [
    "## 02-03-03. 문자형의 메서드"
   ]
  },
  {
   "cell_type": "code",
   "execution_count": 48,
   "metadata": {},
   "outputs": [
    {
     "name": "stdout",
     "output_type": "stream",
     "text": [
      "2024-12-16\n",
      "    oh giraffers    \n",
      "oh giraffers\n",
      "h giraffers\n",
      "hgiraffer\n",
      "hgiraffers\n",
      "ohgiraffer\n"
     ]
    }
   ],
   "source": [
    "# replace() : 지정한 문자를 다른 문자로 변경\n",
    "enroll_date = '2024/12/16'\n",
    "rep_enroll_date = enroll_date.replace(\"/\", \"-\")\n",
    "\n",
    "print(rep_enroll_date)\n",
    "\n",
    "# stripe() : 공백 제거\n",
    "origin = 'ohgiraffers'\n",
    "with_white_space = '    oh giraffers    '\n",
    "\n",
    "# 인자 생략 시 앞 뒤 공백 제거\n",
    "print(with_white_space)\n",
    "print(with_white_space.strip())\n",
    "\n",
    "print(with_white_space.strip('  o'))\n",
    "\n",
    "# 앞 뒤로 제거\n",
    "print(origin.strip('os'))\n",
    "\n",
    "# 앞 부분에서 제거 시작\n",
    "print(origin.lstrip('os'))\n",
    "\n",
    "# 맨 뒷 부분에서 제거 시작\n",
    "print(origin.rstrip('os'))\n",
    "\n",
    "\n"
   ]
  },
  {
   "cell_type": "code",
   "execution_count": 49,
   "metadata": {},
   "outputs": [
    {
     "name": "stdout",
     "output_type": "stream",
     "text": [
      "HELLO WORLD!\n",
      "hello world!\n",
      "Hello world!\n",
      "HEllo World!\n",
      "Hello World!\n"
     ]
    }
   ],
   "source": [
    "origin_str = 'heLLO wORLD!'\n",
    "\n",
    "# 문자열을 대문자로 변경\n",
    "print(origin_str.upper())\n",
    "# 문자열을 소문자로 변경\n",
    "print(origin_str.lower())\n",
    "\n",
    "# 맨 앞글자만 대문자로 변경\n",
    "print(origin_str.capitalize())\n",
    "\n",
    "#\n",
    "print(origin_str.swapcase())\n",
    "\n",
    "# \n",
    "print(origin_str.title())\n"
   ]
  },
  {
   "cell_type": "markdown",
   "metadata": {},
   "source": [
    "## 02-03-04. 문자형 포맷팅\n",
    "- %포맷팅"
   ]
  },
  {
   "cell_type": "code",
   "execution_count": 52,
   "metadata": {},
   "outputs": [
    {
     "name": "stdout",
     "output_type": "stream",
     "text": [
      "x is 10\n",
      "y is code\n"
     ]
    }
   ],
   "source": [
    "x = 10\n",
    "print(\"x is %d\" %x)\n",
    "\n",
    "y = \"code\"\n",
    "print(\"y is %s\" %y)\n",
    "\n"
   ]
  },
  {
   "cell_type": "markdown",
   "metadata": {},
   "source": [
    "- format()"
   ]
  },
  {
   "cell_type": "code",
   "execution_count": 58,
   "metadata": {},
   "outputs": [
    {
     "name": "stdout",
     "output_type": "stream",
     "text": [
      "x is 10\n",
      "x is 10 y is code\n",
      "x is 10 and y is code\n"
     ]
    }
   ],
   "source": [
    "x, y = 10, \"code\"\n",
    "\n",
    "print(\"x is {0}\".format(x))\n",
    "print(\"x is {0} y is {1}\".format(x,y))\n",
    "print(\"x is {new_x} and y is {new_y}\".format(new_x = x,new_y = y)) # 정확하게 명시해줘야 작동한다."
   ]
  },
  {
   "cell_type": "markdown",
   "metadata": {},
   "source": [
    "- f-string"
   ]
  },
  {
   "cell_type": "code",
   "execution_count": 60,
   "metadata": {},
   "outputs": [
    {
     "name": "stdout",
     "output_type": "stream",
     "text": [
      "안녕하세요. 오늘부터 여러분과 함께 공부할 호랑이 강사 입니다!\n"
     ]
    }
   ],
   "source": [
    "teacher_name = \"호랑이\"\n",
    "print(f\"안녕하세요. 오늘부터 여러분과 함께 공부할 {teacher_name} 강사 입니다!\")"
   ]
  },
  {
   "cell_type": "markdown",
   "metadata": {},
   "source": [
    "## 02-04. 주석\n",
    "### 02-04-01. 주석의 종류\n",
    "- 한 줄 주석"
   ]
  },
  {
   "cell_type": "code",
   "execution_count": 64,
   "metadata": {},
   "outputs": [],
   "source": [
    "# 이렇게 그냥 작성"
   ]
  },
  {
   "cell_type": "code",
   "execution_count": 63,
   "metadata": {},
   "outputs": [
    {
     "name": "stdout",
     "output_type": "stream",
     "text": [
      "이건 해석하구요\n",
      "이건 해석한다고\n"
     ]
    }
   ],
   "source": [
    "print('이건 해석하구요')\n",
    "# print('이건 해석하지 않구요)\n",
    "print('이건 해석한다고')"
   ]
  },
  {
   "cell_type": "markdown",
   "metadata": {},
   "source": [
    "- 여러 줄 주석"
   ]
  },
  {
   "cell_type": "code",
   "execution_count": 66,
   "metadata": {},
   "outputs": [
    {
     "name": "stdout",
     "output_type": "stream",
     "text": [
      "여기만 출력됩니다.\n"
     ]
    }
   ],
   "source": [
    "'''\n",
    "삼중 따옴표를 사용하면\n",
    "구간에 걸친 주석이 적용됩니다.\n",
    "\n",
    "print('그래서')\n",
    "print('여기도')\n",
    "print('출력되지 않습니다.')\n",
    "'''\n",
    "\n",
    "print('여기만 출력됩니다.')"
   ]
  },
  {
   "cell_type": "code",
   "execution_count": 68,
   "metadata": {},
   "outputs": [
    {
     "name": "stdout",
     "output_type": "stream",
     "text": [
      "여기만 출력됩니다.\n"
     ]
    }
   ],
   "source": [
    "\"\"\"\n",
    "작은 따옴표여도\n",
    "큰 따옴표여도 똑같습니다.\n",
    "\n",
    "print('그래서 여기도 출력되지 않습니다.')\n",
    "\"\"\"\n",
    "\n",
    "print('여기만 출력됩니다.')\n"
   ]
  },
  {
   "cell_type": "markdown",
   "metadata": {},
   "source": [
    "# 02-05. 형변환\n",
    "## 02-05-01. 형변환이란\n",
    "## 02-05-02. 형변환의 종류"
   ]
  },
  {
   "cell_type": "markdown",
   "metadata": {},
   "source": [
    "1. 암시적 형변환"
   ]
  },
  {
   "cell_type": "code",
   "execution_count": 69,
   "metadata": {},
   "outputs": [
    {
     "name": "stdout",
     "output_type": "stream",
     "text": [
      "4\n",
      "8.0\n"
     ]
    }
   ],
   "source": [
    "print(True + 3)\n",
    "print(3 + 5.0)\n",
    "# print(3 + \"5\") # 암시적 형변환 불가능"
   ]
  },
  {
   "cell_type": "markdown",
   "metadata": {},
   "source": [
    "2. 명시적 형변환"
   ]
  },
  {
   "cell_type": "markdown",
   "metadata": {},
   "source": [
    "- str, float => int (단, 형식에 맞는 문자열로만 정수로 변환 가능)"
   ]
  },
  {
   "cell_type": "code",
   "execution_count": null,
   "metadata": {},
   "outputs": [],
   "source": [
    "print(int('3') + 4)\n",
    "# print(int('3.5') + 2) # 문자열의 형태가 정수형이 아니므로 형변환 불가"
   ]
  },
  {
   "cell_type": "markdown",
   "metadata": {},
   "source": [
    "- str, int => float(단, 형식에 맞는 문자열로만 float로 변환 가능)"
   ]
  },
  {
   "cell_type": "code",
   "execution_count": 70,
   "metadata": {},
   "outputs": [
    {
     "name": "stdout",
     "output_type": "stream",
     "text": [
      "4.5\n",
      "4.0\n"
     ]
    }
   ],
   "source": [
    "print(float('3.5') + 1.0)\n",
    "print(float('3') + 1)"
   ]
  },
  {
   "cell_type": "markdown",
   "metadata": {},
   "source": [
    "- int, float, list, tuple, dict => str(문자열 변환은 전부 가능)"
   ]
  },
  {
   "cell_type": "code",
   "execution_count": 71,
   "metadata": {},
   "outputs": [
    {
     "name": "stdout",
     "output_type": "stream",
     "text": [
      "1\n",
      "1.0\n",
      "{1, 2, 3}\n"
     ]
    }
   ],
   "source": [
    "print(str(1))\n",
    "print(str(1.0))\n",
    "print(str({1, 2, 3}))"
   ]
  },
  {
   "cell_type": "markdown",
   "metadata": {},
   "source": [
    "-list, tuple, dict => list"
   ]
  },
  {
   "cell_type": "code",
   "execution_count": 76,
   "metadata": {},
   "outputs": [
    {
     "name": "stdout",
     "output_type": "stream",
     "text": [
      "['o', 'h', 'g', 'i', 'r', 'a', 'f', 'f', 'e', 'r', 's']\n",
      "[1, 2, 3, 4, 5]\n",
      "['1', '2']\n"
     ]
    }
   ],
   "source": [
    "print(list('ohgiraffers'))\n",
    "print(list((1, 2, 3, 4, 5)))\n",
    "print(list({\"1\": \"hello\", \"2\": \"world\"}))"
   ]
  }
 ],
 "metadata": {
  "kernelspec": {
   "display_name": "base",
   "language": "python",
   "name": "python3"
  },
  "language_info": {
   "codemirror_mode": {
    "name": "ipython",
    "version": 3
   },
   "file_extension": ".py",
   "mimetype": "text/x-python",
   "name": "python",
   "nbconvert_exporter": "python",
   "pygments_lexer": "ipython3",
   "version": "3.10.14"
  }
 },
 "nbformat": 4,
 "nbformat_minor": 2
}
