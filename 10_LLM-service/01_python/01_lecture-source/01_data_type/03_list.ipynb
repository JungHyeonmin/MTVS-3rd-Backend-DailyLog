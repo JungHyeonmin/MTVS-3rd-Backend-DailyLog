{
 "cells": [
  {
   "cell_type": "markdown",
   "metadata": {},
   "source": [
    "# 03. 리스트(List)"
   ]
  },
  {
   "cell_type": "markdown",
   "metadata": {},
   "source": [
    "## 03-01. 리스트 개요"
   ]
  },
  {
   "cell_type": "markdown",
   "metadata": {},
   "source": [
    "### 03-01-01. 리스트란?"
   ]
  },
  {
   "cell_type": "markdown",
   "metadata": {},
   "source": [
    "- 자바의 ArrayList와 비슷하다"
   ]
  },
  {
   "cell_type": "markdown",
   "metadata": {},
   "source": [
    "## 03-01-02. 리스트 표현식"
   ]
  },
  {
   "cell_type": "code",
   "execution_count": 6,
   "metadata": {},
   "outputs": [
    {
     "name": "stdout",
     "output_type": "stream",
     "text": [
      "['orange', 'apple', 'pear', 'banana', 'kiwi', 'apple']\n",
      "orange\n"
     ]
    }
   ],
   "source": [
    "# 중복된 값을 저장할 수 있다.\n",
    "fruits = ['orange', 'apple', 'pear', 'banana', 'kiwi', 'apple']\n",
    "\n",
    "print(fruits)\n",
    "print(fruits[0]) # 인덱싱 : 인덱스로 접근하는 방법"
   ]
  },
  {
   "cell_type": "markdown",
   "metadata": {},
   "source": [
    "## 03-01-03. 문자열의 split()"
   ]
  },
  {
   "cell_type": "code",
   "execution_count": 7,
   "metadata": {},
   "outputs": [
    {
     "name": "stdout",
     "output_type": "stream",
     "text": [
      "['빨', '주', '노', '초', '파', '남', '보']\n"
     ]
    }
   ],
   "source": [
    "rainbow_split = '빨-주-노-초-파-남-보'\n",
    "print(rainbow_split.split('-'))"
   ]
  },
  {
   "cell_type": "markdown",
   "metadata": {},
   "source": [
    "### 03-01-04. list() 메서드"
   ]
  },
  {
   "cell_type": "code",
   "execution_count": 17,
   "metadata": {},
   "outputs": [
    {
     "name": "stdout",
     "output_type": "stream",
     "text": [
      "True\n",
      "<class 'list'>\n",
      "<class 'list'>\n"
     ]
    }
   ],
   "source": [
    "list1 = []\n",
    "list2 = list()\n",
    "\n",
    "print(list1 == list2)\n",
    "print(type(list1))\n",
    "print(type(list2))"
   ]
  },
  {
   "cell_type": "markdown",
   "metadata": {},
   "source": [
    "## 03-02. 리스트 연산"
   ]
  },
  {
   "cell_type": "code",
   "execution_count": 14,
   "metadata": {},
   "outputs": [],
   "source": [
    "safari_list = [\"bear\", \"koala\", \"gorilla\", \"squirrel\"]\n",
    "another_safari_list = [\"monkey\", \"tiger\", \"wolf\"]"
   ]
  },
  {
   "cell_type": "code",
   "execution_count": 15,
   "metadata": {},
   "outputs": [
    {
     "name": "stdout",
     "output_type": "stream",
     "text": [
      "['bear', 'koala', 'gorilla', 'squirrel', 'monkey', 'tiger', 'wolf']\n"
     ]
    }
   ],
   "source": [
    "print(safari_list + another_safari_list)"
   ]
  },
  {
   "cell_type": "markdown",
   "metadata": {},
   "source": [
    "### 02-02-02. 리스트 반복 : *"
   ]
  },
  {
   "cell_type": "code",
   "execution_count": 16,
   "metadata": {},
   "outputs": [
    {
     "name": "stdout",
     "output_type": "stream",
     "text": [
      "['bear', 'koala', 'gorilla', 'squirrel', 'bear', 'koala', 'gorilla', 'squirrel', 'bear', 'koala', 'gorilla', 'squirrel', 'bear', 'koala', 'gorilla', 'squirrel']\n"
     ]
    }
   ],
   "source": [
    "print(safari_list * 4)"
   ]
  },
  {
   "cell_type": "markdown",
   "metadata": {},
   "source": [
    "## 03-03. 리스트 메서드"
   ]
  },
  {
   "cell_type": "code",
   "execution_count": 19,
   "metadata": {},
   "outputs": [],
   "source": [
    "\n",
    "fruits = [\"orange\", \"apple\", \"pear\", \"banana\", \"kiwi\", \"apple\"]"
   ]
  },
  {
   "cell_type": "markdown",
   "metadata": {},
   "source": [
    "### 03-03-01. count() : 리스트 안의 요소의 수를 세는 메서드"
   ]
  },
  {
   "cell_type": "code",
   "execution_count": null,
   "metadata": {},
   "outputs": [
    {
     "name": "stdout",
     "output_type": "stream",
     "text": [
      "2\n",
      "0\n"
     ]
    }
   ],
   "source": [
    "print(fruits.count('apple'))\n",
    "print(fruits.count('test'))"
   ]
  },
  {
   "cell_type": "markdown",
   "metadata": {},
   "source": [
    "### 03-03-02.index() : 요소의 index를 찾는 메서드"
   ]
  },
  {
   "cell_type": "code",
   "execution_count": 28,
   "metadata": {},
   "outputs": [
    {
     "name": "stdout",
     "output_type": "stream",
     "text": [
      "1\n",
      "5\n"
     ]
    }
   ],
   "source": [
    "print(fruits.index('apple'))\n",
    "# print(fruits.index('test')) # 존재하지 않는 요소는 에러\n",
    "\n",
    "print(fruits.index('apple', 3)) # index 3 이후부터 탐색"
   ]
  },
  {
   "cell_type": "markdown",
   "metadata": {},
   "source": [
    "### 03-03-03. reverse() : 리스트의 순서를 역순으로 정렬"
   ]
  },
  {
   "cell_type": "code",
   "execution_count": 29,
   "metadata": {},
   "outputs": [
    {
     "name": "stdout",
     "output_type": "stream",
     "text": [
      "['apple', 'kiwi', 'banana', 'pear', 'apple', 'orange']\n"
     ]
    }
   ],
   "source": [
    "fruits.reverse() # 한번 뒤집으면 영구적으로 반영이 된다.\n",
    "print(fruits)"
   ]
  },
  {
   "cell_type": "markdown",
   "metadata": {},
   "source": [
    "### 03-03-04. append() : 리스트에 요소를 추가한다."
   ]
  },
  {
   "cell_type": "code",
   "execution_count": 30,
   "metadata": {},
   "outputs": [
    {
     "data": {
      "text/plain": [
       "['apple', 'kiwi', 'banana', 'pear', 'apple', 'orange', 'pineapple']"
      ]
     },
     "execution_count": 30,
     "metadata": {},
     "output_type": "execute_result"
    }
   ],
   "source": [
    "fruits.append('pineapple')\n",
    "fruits"
   ]
  },
  {
   "cell_type": "markdown",
   "metadata": {},
   "source": [
    "### 03-03-05. extend() : 리스트에 리스트 추가"
   ]
  },
  {
   "cell_type": "code",
   "execution_count": 35,
   "metadata": {},
   "outputs": [
    {
     "name": "stdout",
     "output_type": "stream",
     "text": [
      "['apple', 'kiwi', 'banana', 'pear', 'apple', 'orange', 'pineapple', 'rainbow fruit', 'sweet lemon', 'happy apple', 'rainbow fruit', 'sweet lemon', 'happy apple', 'rainbow fruit', 'sweet lemon', 'happy apple', 'rainbow fruit', 'sweet lemon', 'happy apple', 'rainbow fruit', 'sweet lemon', 'happy apple']\n"
     ]
    }
   ],
   "source": [
    "fruits.extend(['rainbow fruit', 'sweet lemon', 'happy apple'])\n",
    "print(fruits)"
   ]
  },
  {
   "cell_type": "markdown",
   "metadata": {},
   "source": [
    "### 03-03-06. insert() : 리스트 중간에 요소를 추가하는 메서드"
   ]
  },
  {
   "cell_type": "code",
   "execution_count": 37,
   "metadata": {},
   "outputs": [
    {
     "name": "stdout",
     "output_type": "stream",
     "text": [
      "['monkey banana', 'apple', 'monkey banana', 'kiwi', 'banana', 'pear', 'apple', 'orange', 'pineapple', 'rainbow fruit', 'sweet lemon', 'happy apple', 'rainbow fruit', 'sweet lemon', 'happy apple', 'rainbow fruit', 'sweet lemon', 'happy apple', 'rainbow fruit', 'sweet lemon', 'happy apple', 'rainbow fruit', 'sweet lemon', 'happy apple']\n"
     ]
    }
   ],
   "source": [
    "fruits.insert(2, 'monkey banana')\n",
    "print(fruits)"
   ]
  },
  {
   "cell_type": "markdown",
   "metadata": {},
   "source": [
    "### 03-03-07. sort() : 리스트를 오름차순으로 정렬하는 메서드"
   ]
  },
  {
   "cell_type": "code",
   "execution_count": 47,
   "metadata": {},
   "outputs": [
    {
     "name": "stdout",
     "output_type": "stream",
     "text": [
      "['apple', 'apple', 'banana', 'happy apple', 'happy apple', 'happy apple', 'happy apple', 'happy apple', 'kiwi', 'monkey banana', 'monkey banana', 'orange', 'pear', 'pineapple', 'rainbow fruit', 'rainbow fruit', 'rainbow fruit', 'rainbow fruit', 'rainbow fruit', 'sweet lemon', 'sweet lemon', 'sweet lemon', 'sweet lemon', 'sweet lemon']\n",
      "['sweet lemon', 'sweet lemon', 'sweet lemon', 'sweet lemon', 'sweet lemon', 'rainbow fruit', 'rainbow fruit', 'rainbow fruit', 'rainbow fruit', 'rainbow fruit', 'pineapple', 'pear', 'orange', 'monkey banana', 'monkey banana', 'kiwi', 'happy apple', 'happy apple', 'happy apple', 'happy apple', 'happy apple', 'banana', 'apple', 'apple']\n",
      "['pear', 'kiwi', 'apple', 'apple', 'orange', 'banana', 'pineapple', 'sweet lemon', 'sweet lemon', 'sweet lemon', 'sweet lemon', 'sweet lemon', 'happy apple', 'happy apple', 'happy apple', 'happy apple', 'happy apple', 'rainbow fruit', 'rainbow fruit', 'rainbow fruit', 'rainbow fruit', 'rainbow fruit', 'monkey banana', 'monkey banana']\n",
      "['kiwi', 'pear', 'apple', 'apple', 'banana', 'orange', 'pineapple', 'happy apple', 'happy apple', 'happy apple', 'happy apple', 'happy apple', 'sweet lemon', 'sweet lemon', 'sweet lemon', 'sweet lemon', 'sweet lemon', 'monkey banana', 'monkey banana', 'rainbow fruit', 'rainbow fruit', 'rainbow fruit', 'rainbow fruit', 'rainbow fruit']\n"
     ]
    }
   ],
   "source": [
    "# 기본 정렬 (오름차순) - 문자열은 사전 순으로 정렬한다.\n",
    "fruits.sort()\n",
    "print(fruits)\n",
    "\n",
    "# 내림 차순 정렬\n",
    "fruits.sort(reverse = True)\n",
    "print(fruits)\n",
    "\n",
    "# 문자열 길이가 짧은 순으로 정렬\n",
    "fruits.sort(key=len)\n",
    "print(fruits)\n",
    "\n",
    "# 복합 기준 정렬\n",
    "fruits.sort(key=lambda x:(len(x), x))\n",
    "print(fruits)"
   ]
  },
  {
   "cell_type": "markdown",
   "metadata": {},
   "source": [
    "### 03-03-08. remove() : 리스트에서 요소를 제거할 때 사용하는 메서드"
   ]
  },
  {
   "cell_type": "code",
   "execution_count": 70,
   "metadata": {},
   "outputs": [
    {
     "name": "stdout",
     "output_type": "stream",
     "text": [
      "None\n",
      "['apple', 'apple', 'banana', 'orange', 'pineapple']\n"
     ]
    }
   ],
   "source": [
    "temp = fruits.remove('pear')\n",
    "print(temp)\n",
    "print(fruits)"
   ]
  },
  {
   "cell_type": "markdown",
   "metadata": {},
   "source": [
    "### 03-03-09. pop() : 리스트의 제일 마지막 요소를 제거하는 메서드"
   ]
  },
  {
   "cell_type": "code",
   "execution_count": 67,
   "metadata": {},
   "outputs": [
    {
     "name": "stdout",
     "output_type": "stream",
     "text": [
      "happy apple\n",
      "['pear', 'apple', 'apple', 'banana', 'orange', 'pineapple']\n"
     ]
    }
   ],
   "source": [
    "temp = fruits.pop()\n",
    "print(temp)\n",
    "print(fruits)"
   ]
  },
  {
   "cell_type": "markdown",
   "metadata": {},
   "source": [
    "## 03-04. 리스트를 이용한 자료구조\n",
    "### 03-04-01. Stack"
   ]
  },
  {
   "cell_type": "code",
   "execution_count": 87,
   "metadata": {},
   "outputs": [
    {
     "name": "stdout",
     "output_type": "stream",
     "text": [
      "['plate1', 'plate2', 'plate3', 'plate4']\n"
     ]
    }
   ],
   "source": [
    "plates = ['plate1', 'plate2']\n",
    "\n",
    "plates.append('plate3')\n",
    "plates.append('plate4')\n",
    "\n",
    "print(plates)\n"
   ]
  },
  {
   "cell_type": "code",
   "execution_count": 89,
   "metadata": {},
   "outputs": [
    {
     "name": "stdout",
     "output_type": "stream",
     "text": [
      "plate3\n",
      "['plate1', 'plate2']\n"
     ]
    }
   ],
   "source": [
    "print(plates.pop())\n",
    "print(plates)"
   ]
  },
  {
   "cell_type": "markdown",
   "metadata": {},
   "source": [
    "## 03-05. del 키워드\n",
    "### 03-05-01. del : index의 요소를 제거하는 메서드"
   ]
  },
  {
   "cell_type": "code",
   "execution_count": 98,
   "metadata": {},
   "outputs": [
    {
     "name": "stdout",
     "output_type": "stream",
     "text": [
      "['A', 'B', 'C', 'D', 'E', 'F']\n",
      "['B', 'C', 'D', 'E', 'F']\n",
      "['B', 'E', 'F']\n",
      "[]\n"
     ]
    },
    {
     "ename": "NameError",
     "evalue": "name 'abcList' is not defined",
     "output_type": "error",
     "traceback": [
      "\u001b[1;31m---------------------------------------------------------------------------\u001b[0m",
      "\u001b[1;31mNameError\u001b[0m                                 Traceback (most recent call last)",
      "Cell \u001b[1;32mIn[98], line 14\u001b[0m\n\u001b[0;32m     11\u001b[0m \u001b[38;5;28mprint\u001b[39m(abcList) \u001b[38;5;66;03m# 범위를 지정하지 않으면 모든 요소를 제거한다.\u001b[39;00m\n\u001b[0;32m     13\u001b[0m \u001b[38;5;28;01mdel\u001b[39;00m abcList\n\u001b[1;32m---> 14\u001b[0m \u001b[38;5;28mprint\u001b[39m(\u001b[43mabcList\u001b[49m)\n",
      "\u001b[1;31mNameError\u001b[0m: name 'abcList' is not defined"
     ]
    }
   ],
   "source": [
    "abcList = ['A', 'B', 'C', 'D','E','F']\n",
    "print(abcList)\n",
    "\n",
    "del abcList[0]\n",
    "print(abcList)\n",
    "\n",
    "del abcList[1:3] # 슬라이싱 : 인덱스 범위 내의 요소를 제거하는 메서드\n",
    "print(abcList)\n",
    "\n",
    "del abcList[:]\n",
    "print(abcList) # 범위를 지정하지 않으면 모든 요소를 제거한다.\n",
    "\n",
    "del abcList # 리스트 제거 후 호출 시 에러발생\n",
    "# print(abcList) "
   ]
  },
  {
   "cell_type": "markdown",
   "metadata": {},
   "source": [
    "## 03-06. 디큐(deque)\n",
    "- 큐(queue) : 선입 선출\n",
    "- 디큐(dequeue) : 양방향 큐\n",
    "\n",
    "### 03-06-01. 디큐(double-ended queue, 양방향 큐)"
   ]
  },
  {
   "cell_type": "code",
   "execution_count": 103,
   "metadata": {},
   "outputs": [
    {
     "name": "stdout",
     "output_type": "stream",
     "text": [
      "deque(['a', 'b', 'c'])\n"
     ]
    }
   ],
   "source": [
    "from collections import deque\n",
    "\n",
    "dq = deque()\n",
    "\n",
    "dq.append('a')\n",
    "dq.append('b')\n",
    "dq.append('c')\n",
    "\n",
    "print(dq)"
   ]
  },
  {
   "cell_type": "markdown",
   "metadata": {},
   "source": [
    "\n",
    "### 03-06-02. 디큐의 메서드\n",
    "- append(), pop() : list에서의 append(), pop()과 동일하다.\n",
    "- appendleft() : 왼쪽 끝에 요소를 추가한다.\n",
    "- popleft() : 왼쪽 끝에 있는 요소를 반환하며 제거한다."
   ]
  },
  {
   "cell_type": "code",
   "execution_count": 108,
   "metadata": {},
   "outputs": [
    {
     "name": "stdout",
     "output_type": "stream",
     "text": [
      "deque(['x', 'a', 'b', 'c'])\n",
      "x\n",
      "deque(['a', 'b', 'c'])\n"
     ]
    }
   ],
   "source": [
    "dq.appendleft('x')\n",
    "print(dq)\n",
    "\n",
    "left_value = dq.popleft()\n",
    "print(left_value)\n",
    "print(dq)"
   ]
  }
 ],
 "metadata": {
  "kernelspec": {
   "display_name": "base",
   "language": "python",
   "name": "python3"
  },
  "language_info": {
   "codemirror_mode": {
    "name": "ipython",
    "version": 3
   },
   "file_extension": ".py",
   "mimetype": "text/x-python",
   "name": "python",
   "nbconvert_exporter": "python",
   "pygments_lexer": "ipython3",
   "version": "3.10.14"
  }
 },
 "nbformat": 4,
 "nbformat_minor": 2
}
