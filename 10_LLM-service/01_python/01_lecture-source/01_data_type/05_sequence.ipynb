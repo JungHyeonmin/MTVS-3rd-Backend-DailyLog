{
 "cells": [
  {
   "cell_type": "markdown",
   "metadata": {},
   "source": [
    "# 05. 시퀀스 자료형 (Sequence type)"
   ]
  },
  {
   "cell_type": "markdown",
   "metadata": {},
   "source": [
    "## 05-01. 시퀀스 자료형 개요\n",
    "### 05-01-01. 시퀀스 자료형이란"
   ]
  },
  {
   "cell_type": "code",
   "execution_count": 1,
   "metadata": {},
   "outputs": [
    {
     "name": "stdout",
     "output_type": "stream",
     "text": [
      "<class 'str'>\n",
      "<class 'list'>\n",
      "<class 'tuple'>\n"
     ]
    }
   ],
   "source": [
    "# str\n",
    "name = \"ohgiraffers\"\n",
    "\n",
    "# list\n",
    "list = [0, 1, 2, 3]\n",
    "\n",
    "# tuple\n",
    "tuple = (1, 2, 3)\n",
    "\n",
    "print(type(name))\n",
    "print(type(list))\n",
    "print(type(tuple))"
   ]
  },
  {
   "cell_type": "markdown",
   "metadata": {},
   "source": [
    "### 05-01-02. 인덱싱\n",
    "- 시퀀스 자료형의 인덱스를 가지고 특정 요소를 추출할 수 있다."
   ]
  },
  {
   "cell_type": "code",
   "execution_count": 5,
   "metadata": {},
   "outputs": [
    {
     "name": "stdout",
     "output_type": "stream",
     "text": [
      "서\n",
      "서\n",
      "인천광역시\n",
      "일본\n"
     ]
    }
   ],
   "source": [
    "# 문자열\n",
    "address = \"대한민국 서울시 서초구\"\n",
    "print(address[5])\n",
    "print(address[9])\n",
    "\n",
    "# 리스트\n",
    "location = ['서울특별시', '부산광역시', '인천광역시', '광주광역시', '울산광역시']\n",
    "print(location[2])\n",
    "\n",
    "# 듀플\n",
    "nation = ('대한민국', '미국', '중국', '일본', '프랑스')\n",
    "print(nation[3])"
   ]
  },
  {
   "cell_type": "markdown",
   "metadata": {},
   "source": [
    "- 인덱스를 음수로 지정하면 문자열 끝에서부터 요소를 찾는다."
   ]
  },
  {
   "cell_type": "code",
   "execution_count": 9,
   "metadata": {},
   "outputs": [
    {
     "name": "stdout",
     "output_type": "stream",
     "text": [
      "서\n",
      "서\n",
      "광주광역시\n",
      "중국\n"
     ]
    }
   ],
   "source": [
    "address = \"대한민국 서울시 서초구\"\n",
    "print(address[-3])\n",
    "print(address[-7])\n",
    "\n",
    "location = ['서울특별시', '부산광역시', '인천광역시', '광주광역시', '울산광역시']\n",
    "print(location[-2])\n",
    "\n",
    "nation = ('대한민국', '미국', '중국', '일본', '프랑스')\n",
    "print(nation[-3])"
   ]
  },
  {
   "cell_type": "markdown",
   "metadata": {},
   "source": [
    "### 05-01-03. 슬라이싱\n",
    "- 인덱스를 사용하여 기존 시퀀스 자료에서 원하는 만큼의 문자열을 추출할 수 있다.\n",
    "- 자료형 뒤에 대괄호를 붙이고 [(시작인덱스):(끝인덱스):(오프셋)]으로 문자열을 추출할 수 있다."
   ]
  },
  {
   "cell_type": "code",
   "execution_count": 20,
   "metadata": {},
   "outputs": [
    {
     "name": "stdout",
     "output_type": "stream",
     "text": [
      "서울시\n",
      "서초구\n",
      "서초구\n",
      "한서서\n",
      "구초서 시울서 국민한대\n",
      "['인천광역시', '광주광역시']\n",
      "['광주광역시', '울산광역시']\n",
      "['부산광역시']\n",
      "['울산광역시', '광주광역시', '인천광역시', '부산광역시', '서울특별시']\n",
      "('대한민국', '미국', '중국')\n"
     ]
    }
   ],
   "source": [
    "address = \"대한민국 서울시 서초구\"\n",
    "print(address[5:8])\n",
    "print(address[9:])\n",
    "print(address[-3:])\n",
    "print(address[1:12:4])\n",
    "print(address[::-1])\n",
    "\n",
    "location = ['서울특별시', '부산광역시', '인천광역시', '광주광역시', '울산광역시']\n",
    "print(location[2:4])\n",
    "print(location[-2:])\n",
    "print(location[1:3:2])\n",
    "print(location[::-1])\n",
    "\n",
    "nation = ('대한민국', '미국', '중국', '일본', '프랑스')\n",
    "print(nation[0:3])"
   ]
  },
  {
   "cell_type": "markdown",
   "metadata": {},
   "source": [
    "## 05-02. 시퀀스 자료형의 연산 및 내장함수\n",
    "### 05-02-01. in"
   ]
  },
  {
   "cell_type": "code",
   "execution_count": 27,
   "metadata": {},
   "outputs": [
    {
     "name": "stdout",
     "output_type": "stream",
     "text": [
      "True\n",
      "False\n",
      "False\n",
      "True\n",
      "False\n"
     ]
    }
   ],
   "source": [
    "address = \"대한민국 서울시 서초구\"\n",
    "print('대한민국' in address)\n",
    "print('국민한대' in address)\n",
    "print('서울시서초구' in address)\n",
    "\n",
    "location = ['서울특별시', '부산광역시', '인천광역시', '광주광역시', '울산광역시']\n",
    "print('광주광역시' in location)\n",
    "print(['광주광역시', '울산광역시'] in location)"
   ]
  },
  {
   "cell_type": "markdown",
   "metadata": {},
   "source": [
    "### 05-02-02. len()"
   ]
  },
  {
   "cell_type": "code",
   "execution_count": 28,
   "metadata": {},
   "outputs": [
    {
     "name": "stdout",
     "output_type": "stream",
     "text": [
      "12\n"
     ]
    }
   ],
   "source": [
    "address = \"대한민국 서울시 서초구\"\n",
    "print(len(address))"
   ]
  }
 ],
 "metadata": {
  "kernelspec": {
   "display_name": "pystudy_env",
   "language": "python",
   "name": "python3"
  },
  "language_info": {
   "codemirror_mode": {
    "name": "ipython",
    "version": 3
   },
   "file_extension": ".py",
   "mimetype": "text/x-python",
   "name": "python",
   "nbconvert_exporter": "python",
   "pygments_lexer": "ipython3",
   "version": "3.12.5"
  }
 },
 "nbformat": 4,
 "nbformat_minor": 2
}
