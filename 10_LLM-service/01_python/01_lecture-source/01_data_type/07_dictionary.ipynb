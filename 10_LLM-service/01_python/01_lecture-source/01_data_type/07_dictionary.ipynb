{
 "cells": [
  {
   "cell_type": "markdown",
   "metadata": {},
   "source": [
    "# 07. 딕셔너리(Dictionary)\n",
    "## 07-01. 딕셔너리 개요\n",
    "### 07-01-01. 딕셔너리란\n",
    "> 키와 값의 쌍으로 구성된 자료형, 키를 통해 값을 찾을 수 있다."
   ]
  },
  {
   "cell_type": "markdown",
   "metadata": {},
   "source": [
    "### 07-01-02. 딕셔너리 표현식"
   ]
  },
  {
   "cell_type": "code",
   "execution_count": 3,
   "metadata": {},
   "outputs": [
    {
     "name": "stdout",
     "output_type": "stream",
     "text": [
      "<class 'dict'>\n",
      "bear\n"
     ]
    },
    {
     "ename": "AttributeError",
     "evalue": "'dict' object has no attribute 'team'",
     "output_type": "error",
     "traceback": [
      "\u001b[1;31m---------------------------------------------------------------------------\u001b[0m",
      "\u001b[1;31mAttributeError\u001b[0m                            Traceback (most recent call last)",
      "Cell \u001b[1;32mIn[3], line 5\u001b[0m\n\u001b[0;32m      2\u001b[0m \u001b[38;5;28mprint\u001b[39m(\u001b[38;5;28mtype\u001b[39m(teacher))\n\u001b[0;32m      4\u001b[0m \u001b[38;5;28mprint\u001b[39m(teacher[\u001b[38;5;124m\"\u001b[39m\u001b[38;5;124mname\u001b[39m\u001b[38;5;124m\"\u001b[39m])\n\u001b[1;32m----> 5\u001b[0m \u001b[38;5;28mprint\u001b[39m(\u001b[43mteacher\u001b[49m\u001b[38;5;241;43m.\u001b[39;49m\u001b[43mteam\u001b[49m)\n",
      "\u001b[1;31mAttributeError\u001b[0m: 'dict' object has no attribute 'team'"
     ]
    }
   ],
   "source": [
    "teacher = {\"name\": \"bear\", \"team\": \"ohgiraffers\"}\n",
    "print(type(teacher))\n",
    "\n",
    "print(teacher[\"name\"])\n",
    "# print(teacher.team)"
   ]
  },
  {
   "cell_type": "markdown",
   "metadata": {},
   "source": [
    "### 07-01-03. 딕셔너리의 특징\n",
    "1. 키(key)와 값(value) 쌍으로 구성된다."
   ]
  },
  {
   "cell_type": "code",
   "execution_count": 4,
   "metadata": {},
   "outputs": [
    {
     "name": "stdout",
     "output_type": "stream",
     "text": [
      "{'tiger': 'langchain', 'squirrel': 'JPA', 'bear': 'python', 'gorilla': 'spring'}\n"
     ]
    }
   ],
   "source": [
    "ohgiraffers = {\n",
    "    \"tiger\": \"langchain\",\n",
    "    \"squirrel\": \"JPA\",\n",
    "    \"bear\": \"python\",\n",
    "    \"gorilla\": \"spring\"\n",
    "}\n",
    "\n",
    "print(ohgiraffers)"
   ]
  },
  {
   "cell_type": "markdown",
   "metadata": {},
   "source": [
    "2. 키는 고유해야 하며 불변(immutable)한 데이터 타입이어야 한다.\n",
    "- 각 키는 유일하게 존재해야 하므로 동일한 키로 여러 값을 저장할 수 없다.\n",
    "- 만약 중복 키로 값을 입력하면 기존 값을 덮어쓴다.\n",
    "- key로 가변자료형(리스트, 딕셔너리)은 사용할 수 없고, 기본자료형이나 불변자료형(튜플)은 사용할 수 있다."
   ]
  },
  {
   "cell_type": "code",
   "execution_count": 7,
   "metadata": {},
   "outputs": [
    {
     "name": "stdout",
     "output_type": "stream",
     "text": [
      "{'tiger': 'mybatis', 'squirrel': 'JPA', 'bear': 'python', 'gorilla': 'spring'}\n",
      "ohgiraffers\n"
     ]
    }
   ],
   "source": [
    "ohgiraffers = {\n",
    "    \"tiger\": \"langchain\",\n",
    "    \"squirrel\": \"JPA\",\n",
    "    \"bear\": \"python\",\n",
    "    \"gorilla\": \"spring\",\n",
    "    \"tiger\": \"mybatis\"\n",
    "}\n",
    "\n",
    "print(ohgiraffers)\n",
    "\n",
    "# invalid_key_teacher = {[\"name\", \"team\"]: \"ohgiraffers\"}\n",
    "\n",
    "valid_key_dic = {(\"name\", \"team\"): \"ohgiraffers\"}\n",
    "print(valid_key_dic[(\"name\", \"team\")])\n"
   ]
  },
  {
   "cell_type": "markdown",
   "metadata": {},
   "source": [
    "3. dictionary는 가변적인 자료구조이다.\n",
    "- 딕셔너리는 가변적인 자료구조로 딕셔너리 생성 후에도 키,값 쌍을 추가/수정/삭제 할 수 있다."
   ]
  },
  {
   "cell_type": "code",
   "execution_count": 8,
   "metadata": {},
   "outputs": [
    {
     "name": "stdout",
     "output_type": "stream",
     "text": [
      "{'tiger': 'java', 'bear': 'python'}\n"
     ]
    }
   ],
   "source": [
    "ohgiraffers = {\n",
    "    \"tiger\": \"langchain\",\n",
    "    \"bear\": \"python\"\n",
    "}\n",
    "\n",
    "ohgiraffers[\"tiger\"] = \"java\"\n",
    "print(ohgiraffers)"
   ]
  },
  {
   "cell_type": "markdown",
   "metadata": {},
   "source": [
    "4. del 키워드를 이용해 딕셔너리를 삭제할 수 있다."
   ]
  },
  {
   "cell_type": "code",
   "execution_count": 9,
   "metadata": {},
   "outputs": [
    {
     "ename": "NameError",
     "evalue": "name 'ohgiraffers' is not defined",
     "output_type": "error",
     "traceback": [
      "\u001b[1;31m---------------------------------------------------------------------------\u001b[0m",
      "\u001b[1;31mNameError\u001b[0m                                 Traceback (most recent call last)",
      "Cell \u001b[1;32mIn[9], line 2\u001b[0m\n\u001b[0;32m      1\u001b[0m \u001b[38;5;28;01mdel\u001b[39;00m ohgiraffers\n\u001b[1;32m----> 2\u001b[0m \u001b[38;5;28mprint\u001b[39m(\u001b[43mohgiraffers\u001b[49m)\n",
      "\u001b[1;31mNameError\u001b[0m: name 'ohgiraffers' is not defined"
     ]
    }
   ],
   "source": [
    "del ohgiraffers\n",
    "print(ohgiraffers)"
   ]
  },
  {
   "cell_type": "markdown",
   "metadata": {},
   "source": [
    "5. in 키워드를 사용하여 key값의 존재 여부를 확인할 수 있다."
   ]
  },
  {
   "cell_type": "code",
   "execution_count": 10,
   "metadata": {},
   "outputs": [
    {
     "name": "stdout",
     "output_type": "stream",
     "text": [
      "True\n"
     ]
    }
   ],
   "source": [
    "ohgiraffers = {\n",
    "    \"tiger\": \"langchain\",\n",
    "    \"bear\": \"python\"\n",
    "}\n",
    "\n",
    "print(\"tiger\" in ohgiraffers)"
   ]
  },
  {
   "cell_type": "markdown",
   "metadata": {},
   "source": [
    "## 07-02. 딕셔너리의 메소드\n",
    "### 07-02-01. get()"
   ]
  },
  {
   "cell_type": "code",
   "execution_count": 18,
   "metadata": {},
   "outputs": [
    {
     "name": "stdout",
     "output_type": "stream",
     "text": [
      "langchain\n",
      "None\n"
     ]
    }
   ],
   "source": [
    "ohgiraffers = {\n",
    "    \"tiger\": \"langchain\",\n",
    "    \"bear\": \"python\"\n",
    "}\n",
    "\n",
    "print(ohgiraffers.get(\"tiger\"))\n",
    "print(ohgiraffers.get(\"wolf\"))"
   ]
  },
  {
   "cell_type": "markdown",
   "metadata": {},
   "source": [
    "### 07-02-02. keys()"
   ]
  },
  {
   "cell_type": "code",
   "execution_count": 13,
   "metadata": {},
   "outputs": [
    {
     "name": "stdout",
     "output_type": "stream",
     "text": [
      "dict_keys(['tiger', 'bear'])\n"
     ]
    }
   ],
   "source": [
    "print(ohgiraffers.keys())"
   ]
  },
  {
   "cell_type": "markdown",
   "metadata": {},
   "source": [
    "### 07-02-03. values()"
   ]
  },
  {
   "cell_type": "code",
   "execution_count": 14,
   "metadata": {},
   "outputs": [
    {
     "name": "stdout",
     "output_type": "stream",
     "text": [
      "dict_values(['langchain', 'python'])\n"
     ]
    }
   ],
   "source": [
    "print(ohgiraffers.values())"
   ]
  },
  {
   "cell_type": "markdown",
   "metadata": {},
   "source": [
    "### 07-02-04. items()"
   ]
  },
  {
   "cell_type": "code",
   "execution_count": 15,
   "metadata": {},
   "outputs": [
    {
     "name": "stdout",
     "output_type": "stream",
     "text": [
      "dict_items([('tiger', 'langchain'), ('bear', 'python')])\n"
     ]
    }
   ],
   "source": [
    "print(ohgiraffers.items())"
   ]
  },
  {
   "cell_type": "markdown",
   "metadata": {},
   "source": [
    "### 07-02-05. pop()"
   ]
  },
  {
   "cell_type": "code",
   "execution_count": 19,
   "metadata": {},
   "outputs": [
    {
     "name": "stdout",
     "output_type": "stream",
     "text": [
      "langchain\n",
      "{'bear': 'python'}\n"
     ]
    }
   ],
   "source": [
    "print(ohgiraffers.pop(\"tiger\"))\n",
    "print(ohgiraffers)"
   ]
  },
  {
   "cell_type": "markdown",
   "metadata": {},
   "source": [
    "### 07-02-06. popitem()"
   ]
  },
  {
   "cell_type": "code",
   "execution_count": 20,
   "metadata": {},
   "outputs": [
    {
     "name": "stdout",
     "output_type": "stream",
     "text": [
      "('bear', 'python')\n"
     ]
    }
   ],
   "source": [
    "print(ohgiraffers.popitem())"
   ]
  },
  {
   "cell_type": "markdown",
   "metadata": {},
   "source": [
    "### 07-02-07. update()"
   ]
  },
  {
   "cell_type": "code",
   "execution_count": 22,
   "metadata": {},
   "outputs": [
    {
     "data": {
      "text/plain": [
       "{'test': 'value'}"
      ]
     },
     "execution_count": 22,
     "metadata": {},
     "output_type": "execute_result"
    }
   ],
   "source": [
    "ohgiraffers.update({\"test\": \"value\"})\n",
    "ohgiraffers"
   ]
  },
  {
   "cell_type": "markdown",
   "metadata": {},
   "source": [
    "### 07-02-08. clear()"
   ]
  },
  {
   "cell_type": "code",
   "execution_count": 23,
   "metadata": {},
   "outputs": [
    {
     "data": {
      "text/plain": [
       "{}"
      ]
     },
     "execution_count": 23,
     "metadata": {},
     "output_type": "execute_result"
    }
   ],
   "source": [
    "ohgiraffers.clear()\n",
    "ohgiraffers"
   ]
  }
 ],
 "metadata": {
  "kernelspec": {
   "display_name": "pystudy_env",
   "language": "python",
   "name": "python3"
  },
  "language_info": {
   "codemirror_mode": {
    "name": "ipython",
    "version": 3
   },
   "file_extension": ".py",
   "mimetype": "text/x-python",
   "name": "python",
   "nbconvert_exporter": "python",
   "pygments_lexer": "ipython3",
   "version": "3.12.5"
  }
 },
 "nbformat": 4,
 "nbformat_minor": 2
}
