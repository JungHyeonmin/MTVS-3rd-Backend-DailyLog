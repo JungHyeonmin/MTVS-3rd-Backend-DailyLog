{
 "cells": [
  {
   "cell_type": "markdown",
   "metadata": {},
   "source": [
    "# 01. 예외처리\n",
    "\n",
    "## 01-01. 예외처리 개요\n",
    "### 01-01-01. 예외처리가 필요한 이유\n",
    "\n",
    "- 문장이나 표현식이 문법적으로 올바르다고 하더라도 실행하면 예러를 일으킬 수 있다.\n",
    "- 이러한 에러 발생 시 대처할 수 있도록 예외처리 코드를 작성하는 것이 좋다."
   ]
  },
  {
   "cell_type": "markdown",
   "metadata": {},
   "source": [
    "### 01-01-02. 예외처리 기본 문법\n",
    "- try 블럭 안에는 실행할 코드를, except 블럭 안에는 try 블럭 안에서 실행하는 코드에서 예외 발생 시 동작할 코드를 작성한다."
   ]
  },
  {
   "cell_type": "code",
   "execution_count": 1,
   "metadata": {},
   "outputs": [
    {
     "name": "stdout",
     "output_type": "stream",
     "text": [
      "예외 발생!\n"
     ]
    }
   ],
   "source": [
    "try:\n",
    "    4 / 0\n",
    "except:\n",
    "    print(\"예외 발생!\")"
   ]
  },
  {
   "cell_type": "code",
   "execution_count": 2,
   "metadata": {},
   "outputs": [
    {
     "name": "stdout",
     "output_type": "stream",
     "text": [
      "0으로 나눌 수 없습니다.\n"
     ]
    }
   ],
   "source": [
    "try:\n",
    "    a = [1,2]\n",
    "    4 / 0\n",
    "    print(a[3])\n",
    "except IndexError:\n",
    "    print(\"인덱싱 할 수 없습니다.\")\n",
    "except ZeroDivisionError:\n",
    "    print(\"0으로 나눌 수 없습니다.\")"
   ]
  },
  {
   "cell_type": "code",
   "execution_count": 3,
   "metadata": {},
   "outputs": [
    {
     "name": "stdout",
     "output_type": "stream",
     "text": [
      "division by zero\n"
     ]
    }
   ],
   "source": [
    "try:\n",
    "    4 / 0\n",
    "except ZeroDivisionError as e:\n",
    "    print(e)"
   ]
  },
  {
   "cell_type": "code",
   "execution_count": 5,
   "metadata": {},
   "outputs": [
    {
     "name": "stdout",
     "output_type": "stream",
     "text": [
      "입력이 정확하지 않습니다.\n"
     ]
    }
   ],
   "source": [
    "try:\n",
    "    age = int(input('나이를 입력하세요'))\n",
    "except:\n",
    "    print('입력이 정확하지 않습니다.')\n",
    "else:\n",
    "    if age <= 18:\n",
    "        print('미성년자는 출입금지입니다.')\n",
    "    else:\n",
    "        print('환영합니다.')\n",
    "        "
   ]
  },
  {
   "cell_type": "code",
   "execution_count": 6,
   "metadata": {},
   "outputs": [],
   "source": [
    "try:\n",
    "    f = open('없는 파일', 'r')\n",
    "except FileNotFoundError:\n",
    "    pass"
   ]
  },
  {
   "cell_type": "code",
   "execution_count": 9,
   "metadata": {},
   "outputs": [
    {
     "name": "stdout",
     "output_type": "stream",
     "text": [
      "허용되지 않는 별명입니다.\n"
     ]
    }
   ],
   "source": [
    "class MyError(Exception):\n",
    "    pass\n",
    "\n",
    "def say_nick(nick):\n",
    "    if nick == '돼지':\n",
    "        raise MyError()\n",
    "    print(nick)\n",
    "\n",
    "try:\n",
    "    say_nick('곰')\n",
    "except MyError:\n",
    "    print('허용되지 않는 별명입니다.')"
   ]
  }
 ],
 "metadata": {
  "kernelspec": {
   "display_name": "base",
   "language": "python",
   "name": "python3"
  },
  "language_info": {
   "codemirror_mode": {
    "name": "ipython",
    "version": 3
   },
   "file_extension": ".py",
   "mimetype": "text/x-python",
   "name": "python",
   "nbconvert_exporter": "python",
   "pygments_lexer": "ipython3",
   "version": "3.10.14"
  }
 },
 "nbformat": 4,
 "nbformat_minor": 2
}
