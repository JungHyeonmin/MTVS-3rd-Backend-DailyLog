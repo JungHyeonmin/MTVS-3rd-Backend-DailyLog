{
 "cells": [
  {
   "cell_type": "markdown",
   "metadata": {},
   "source": [
    "# 01. 클래스\n",
    "## 01-01. 클래스 개요\n",
    "### 01-01-02. 클래스의 정의"
   ]
  },
  {
   "cell_type": "code",
   "execution_count": 8,
   "metadata": {},
   "outputs": [],
   "source": [
    "class Person:\n",
    "    national = 'korea'\n",
    "\n",
    "    def greeting(self):\n",
    "        return 'Hello, This is Python'"
   ]
  },
  {
   "cell_type": "markdown",
   "metadata": {},
   "source": [
    "## 01-02. 클래스 구성 요소\n",
    "### 01-02-01. 클래스 속성\n",
    "- 클래스 자체에 속하는 변수로, 모든 인스턴스가 공유하는 속성이다."
   ]
  },
  {
   "cell_type": "code",
   "execution_count": 6,
   "metadata": {},
   "outputs": [],
   "source": [
    "class Person:\n",
    "    national = \"korea\"\n",
    "    language = \"korean\""
   ]
  },
  {
   "cell_type": "markdown",
   "metadata": {},
   "source": [
    "### 01-02-02. 메서드\n",
    "- 클래스 내부에 정의된 함수로, 인스턴스의 데이터를 조작하거나 동작을 정의한다.\n",
    "- self\n",
    "    - 메서드 내에서 쓰이는 self는 필드 및 메서드에 접근하기 위한 레퍼런스 변수이다.\n",
    "    - 메서드 호출 시 객체의 주소값이 첫 번째 인자로 넘어오기 때문에, 객체를 통한 접근을 할 시 메서드의 첫 번째 매개변수로 self를 선언한다.\n",
    "    - this느낌..?"
   ]
  },
  {
   "cell_type": "code",
   "execution_count": 9,
   "metadata": {},
   "outputs": [],
   "source": [
    "class Person:\n",
    "    national = \"korea\"\n",
    "    language = \"korean\"\n",
    "\n",
    "    def greeting():\n",
    "        return \"안녕하세요\"\n",
    "\n",
    "    def information(self):\n",
    "        return \"I'm from \" + self.national + \"and I use \" + self.language\n",
    "    \n",
    "    def favorite(self, color):\n",
    "        return \"I love \" + color"
   ]
  },
  {
   "cell_type": "markdown",
   "metadata": {},
   "source": [
    "### 01-02-03. 생성자\n",
    "- `__init__` 메서드는 객체가 생성될 때 자동으로 호출되는 메서드로, 생성자라고 부른다."
   ]
  },
  {
   "cell_type": "code",
   "execution_count": 11,
   "metadata": {},
   "outputs": [],
   "source": [
    "class Person:\n",
    "    national = \"korea\"\n",
    "    language = \"korean\"\n",
    "\n",
    "    def __init__(self, national, language):\n",
    "        self.national = national\n",
    "        self.language = language"
   ]
  },
  {
   "cell_type": "markdown",
   "metadata": {},
   "source": [
    "# 02. 인스턴스\n",
    "## 02-01. 인스턴스 개요\n",
    "### 02-01-01. 인스턴스란\n",
    "### 02-01-02. 인스턴스 생성"
   ]
  },
  {
   "cell_type": "code",
   "execution_count": 14,
   "metadata": {},
   "outputs": [],
   "source": [
    "class Person:\n",
    "    national = \"korea\"\n",
    "    language = \"korean\"\n",
    "\n",
    "    def __init__(self, name, age):\n",
    "        self.name = name\n",
    "        self.age = age\n",
    "    \n",
    "    def greeting(self):\n",
    "        return \"안녕하세요\"\n",
    "\n",
    "    def information(self):\n",
    "        return \"I'm from \" + self.national + \" and I use \" + self.language + \". My name is \" + self.name + + \". I'm \" + str(self.age)\n",
    "    \n",
    "    def favoriteColor(self, color):\n",
    "        return \"I love \" + color"
   ]
  },
  {
   "cell_type": "code",
   "execution_count": 28,
   "metadata": {},
   "outputs": [
    {
     "name": "stdout",
     "output_type": "stream",
     "text": [
      "<__main__.Person object at 0x0000023E0309BF70>\n",
      "<__main__.Person object at 0x0000023E03098A00>\n",
      "안녕하세요\n",
      "안녕하세요\n"
     ]
    },
    {
     "ename": "TypeError",
     "evalue": "bad operand type for unary +: 'str'",
     "output_type": "error",
     "traceback": [
      "\u001b[1;31m---------------------------------------------------------------------------\u001b[0m",
      "\u001b[1;31mTypeError\u001b[0m                                 Traceback (most recent call last)",
      "Cell \u001b[1;32mIn[28], line 10\u001b[0m\n\u001b[0;32m      7\u001b[0m \u001b[38;5;28mprint\u001b[39m(squirrel\u001b[38;5;241m.\u001b[39mgreeting())\n\u001b[0;32m      8\u001b[0m \u001b[38;5;28mprint\u001b[39m(gorilla\u001b[38;5;241m.\u001b[39mgreeting())\n\u001b[1;32m---> 10\u001b[0m \u001b[38;5;28mprint\u001b[39m(\u001b[43msquirrel\u001b[49m\u001b[38;5;241;43m.\u001b[39;49m\u001b[43minformation\u001b[49m\u001b[43m(\u001b[49m\u001b[43m)\u001b[49m)\n\u001b[0;32m     11\u001b[0m \u001b[38;5;28mprint\u001b[39m(gorilla\u001b[38;5;241m.\u001b[39minformation())\n\u001b[0;32m     13\u001b[0m \u001b[38;5;28mprint\u001b[39m(squirrel\u001b[38;5;241m.\u001b[39mfavoriteColor(\u001b[38;5;124m\"\u001b[39m\u001b[38;5;124mred\u001b[39m\u001b[38;5;124m\"\u001b[39m))\n",
      "Cell \u001b[1;32mIn[14], line 13\u001b[0m, in \u001b[0;36mPerson.information\u001b[1;34m(self)\u001b[0m\n\u001b[0;32m     12\u001b[0m \u001b[38;5;28;01mdef\u001b[39;00m \u001b[38;5;21minformation\u001b[39m(\u001b[38;5;28mself\u001b[39m):\n\u001b[1;32m---> 13\u001b[0m     \u001b[38;5;28;01mreturn\u001b[39;00m \u001b[38;5;124m\"\u001b[39m\u001b[38;5;124mI\u001b[39m\u001b[38;5;124m'\u001b[39m\u001b[38;5;124mm from \u001b[39m\u001b[38;5;124m\"\u001b[39m \u001b[38;5;241m+\u001b[39m \u001b[38;5;28mself\u001b[39m\u001b[38;5;241m.\u001b[39mnational \u001b[38;5;241m+\u001b[39m \u001b[38;5;124m\"\u001b[39m\u001b[38;5;124m and I use \u001b[39m\u001b[38;5;124m\"\u001b[39m \u001b[38;5;241m+\u001b[39m \u001b[38;5;28mself\u001b[39m\u001b[38;5;241m.\u001b[39mlanguage \u001b[38;5;241m+\u001b[39m \u001b[38;5;124m\"\u001b[39m\u001b[38;5;124m. My name is \u001b[39m\u001b[38;5;124m\"\u001b[39m \u001b[38;5;241m+\u001b[39m \u001b[38;5;28mself\u001b[39m\u001b[38;5;241m.\u001b[39mname \u001b[38;5;241m+\u001b[39m \u001b[38;5;241;43m+\u001b[39;49m\u001b[43m \u001b[49m\u001b[38;5;124;43m\"\u001b[39;49m\u001b[38;5;124;43m. I\u001b[39;49m\u001b[38;5;124;43m'\u001b[39;49m\u001b[38;5;124;43mm \u001b[39;49m\u001b[38;5;124;43m\"\u001b[39;49m \u001b[38;5;241m+\u001b[39m \u001b[38;5;28mstr\u001b[39m(\u001b[38;5;28mself\u001b[39m\u001b[38;5;241m.\u001b[39mage)\n",
      "\u001b[1;31mTypeError\u001b[0m: bad operand type for unary +: 'str'"
     ]
    }
   ],
   "source": [
    "squirrel = Person(\"다람쥐\", 900)\n",
    "gorilla = Person(\"고릴라\", 20)\n",
    "\n",
    "print(squirrel)\n",
    "print(gorilla)\n",
    "\n",
    "print(squirrel.greeting())\n",
    "print(gorilla.greeting())\n",
    "\n",
    "print(squirrel.information())\n",
    "print(gorilla.information())\n",
    "\n",
    "print(squirrel.favoriteColor(\"red\"))\n",
    "print(gorilla.favoriteColor(\"green\"))\n",
    "\n",
    "\n",
    "\n"
   ]
  },
  {
   "cell_type": "markdown",
   "metadata": {},
   "source": [
    "### 02-02-01. 클래스 속성과 인스턴스 속성\n",
    "- 인스턴스 변수는 인스턴스별 데이터를 위한 것이고, 클래스 변수는 클래스로 인해 만들어진 모든 인스턴스에서 공유되는 값이다.\n",
    "- 클래스 속성은 공유되는 속성으로 변경이 발생하면, 전체 객체에서 변경이 일어난다."
   ]
  },
  {
   "cell_type": "code",
   "execution_count": 46,
   "metadata": {},
   "outputs": [],
   "source": [
    "class Character:\n",
    "    skills = []\n",
    "    \n",
    "    def __init__(self, nickname, type):\n",
    "        self.nickname =nickname\n",
    "        self.type =type\n",
    "        \n",
    "    def add_skill(self, skill):\n",
    "        self.skills.append(skill)\n",
    "    \n",
    "    def show_skill(self):\n",
    "        return self.type + ' ' + self.nickname + \"님의 보유 스킬: \" + str(self.skills)"
   ]
  },
  {
   "cell_type": "code",
   "execution_count": 48,
   "metadata": {},
   "outputs": [
    {
     "name": "stdout",
     "output_type": "stream",
     "text": [
      "전사 산골짜기다람쥐님의 보유 스킬: ['곤봉 휘두르기', '마법진 날리기', '곤봉 휘두르기', '마법진 날리기']\n"
     ]
    }
   ],
   "source": [
    "my_character = Character(\"산골짜기다람쥐\", \"전사\")\n",
    "your_character = Character(\"흑염룡고릴라\", \"법사\")\n",
    "\n",
    "my_character.add_skill(\"곤봉 휘두르기\")\n",
    "your_character.add_skill(\"마법진 날리기\")\n",
    "\n",
    "print(my_character.show_skill())"
   ]
  },
  {
   "cell_type": "code",
   "execution_count": null,
   "metadata": {},
   "outputs": [],
   "source": []
  }
 ],
 "metadata": {
  "kernelspec": {
   "display_name": "base",
   "language": "python",
   "name": "python3"
  },
  "language_info": {
   "codemirror_mode": {
    "name": "ipython",
    "version": 3
   },
   "file_extension": ".py",
   "mimetype": "text/x-python",
   "name": "python",
   "nbconvert_exporter": "python",
   "pygments_lexer": "ipython3",
   "version": "3.10.14"
  }
 },
 "nbformat": 4,
 "nbformat_minor": 2
}
