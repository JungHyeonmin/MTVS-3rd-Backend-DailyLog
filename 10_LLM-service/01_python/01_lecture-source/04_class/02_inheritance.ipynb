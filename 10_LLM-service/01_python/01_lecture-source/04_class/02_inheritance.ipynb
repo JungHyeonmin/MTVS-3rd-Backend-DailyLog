{
 "cells": [
  {
   "cell_type": "markdown",
   "metadata": {},
   "source": [
    "# 03. 상속\n",
    "## 03-01. 상속 개요\n",
    "### 03-01-01. 상속이란\n",
    "\n",
    "### 03-01-02. 상속 기본 문법"
   ]
  },
  {
   "cell_type": "code",
   "execution_count": 1,
   "metadata": {},
   "outputs": [
    {
     "name": "stdout",
     "output_type": "stream",
     "text": [
      "hello. This is Python\n"
     ]
    }
   ],
   "source": [
    "class Person:\n",
    "    national = \"korea\"\n",
    "    language = \"korean\"\n",
    "    \n",
    "    def greeting(self):\n",
    "        return \"hello. This is Python\"\n",
    "\n",
    "class Student(Person): # 상속\n",
    "    pass\n",
    "\n",
    "student = Student()\n",
    "\n",
    "print(student.greeting())"
   ]
  },
  {
   "cell_type": "markdown",
   "metadata": {},
   "source": [
    "## 03-02. 상속의 특징\n",
    "### 03-02-01. 다중 상속 지원(자바는 없음)"
   ]
  },
  {
   "cell_type": "code",
   "execution_count": 6,
   "metadata": {},
   "outputs": [
    {
     "name": "stdout",
     "output_type": "stream",
     "text": [
      "Hello??\n",
      "I am learning python!!\n"
     ]
    }
   ],
   "source": [
    "class Person:\n",
    "    national = \"korea\"\n",
    "    \n",
    "    def greeting(self):\n",
    "        return \"Hello??\"\n",
    "\n",
    "class Learner:\n",
    "    def greeting(self):\n",
    "        return \"Hi!!\"\n",
    "    \n",
    "    def learn(self):\n",
    "        return \"I am learning python!!\"\n",
    "\n",
    "class Student(Person, Learner):\n",
    "    pass\n",
    "\n",
    "student = Student()\n",
    "print(student.greeting())\n",
    "print(student.learn())"
   ]
  },
  {
   "cell_type": "markdown",
   "metadata": {},
   "source": [
    "### 03-02-03. 부모클래스의 속성 오버라이딩 가능"
   ]
  },
  {
   "cell_type": "code",
   "execution_count": 10,
   "metadata": {},
   "outputs": [
    {
     "name": "stdout",
     "output_type": "stream",
     "text": [
      "Hello?? I'm Student\n",
      "I'm learning python\n"
     ]
    }
   ],
   "source": [
    "class Person:\n",
    "    national = \"korea\"\n",
    "\n",
    "    def greeting(self):\n",
    "        return \"Hello? I'm Person\"\n",
    "\n",
    "class Learner(Person):\n",
    "    def __init__(self, subject):\n",
    "        self.subject = subject\n",
    "    \n",
    "    def learn(self):\n",
    "        return \"I'm learning \" + self.subject\n",
    "    \n",
    "class Student(Learner):\n",
    "    def __init__(self, name, subject):\n",
    "        Learner.__init__(self,subject)\n",
    "        self.name = name\n",
    "    \n",
    "    def greeting(self):\n",
    "        return \"Hello?? I'm Student\"\n",
    "    \n",
    "\n",
    "student = Student(\"다람쥐\",\"python\")\n",
    "\n",
    "print(student.greeting())\n",
    "print(student.learn())\n"
   ]
  }
 ],
 "metadata": {
  "kernelspec": {
   "display_name": "base",
   "language": "python",
   "name": "python3"
  },
  "language_info": {
   "codemirror_mode": {
    "name": "ipython",
    "version": 3
   },
   "file_extension": ".py",
   "mimetype": "text/x-python",
   "name": "python",
   "nbconvert_exporter": "python",
   "pygments_lexer": "ipython3",
   "version": "3.10.14"
  }
 },
 "nbformat": 4,
 "nbformat_minor": 2
}
