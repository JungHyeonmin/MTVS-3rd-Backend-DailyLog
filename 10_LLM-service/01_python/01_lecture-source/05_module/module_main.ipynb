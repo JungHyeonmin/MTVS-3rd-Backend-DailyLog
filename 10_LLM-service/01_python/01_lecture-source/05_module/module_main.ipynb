{
 "cells": [
  {
   "cell_type": "markdown",
   "metadata": {},
   "source": [
    "# 01. 모듈(Module)\n",
    "\n",
    "## 01-01. 모듈 개요\n",
    "### 01-01-01. 모듈이란?\n",
    "> 하나의 모듈은 서로 관련있는 코드의 집합이자 하나의 파일을 의미하며, 함수, 클래스, 변수 등을 모듈 내에 정의할 수 있다. 이렇게 만든 모듈은 python 프로그램에서 가져와 사용할 수 있다."
   ]
  },
  {
   "cell_type": "markdown",
   "metadata": {},
   "source": [
    "### 01-01-02. 모듈 장점\n",
    "1. 재사용성 : 한 번 작성한 코드를 여러 프로그램에서 재사용할 수 있다.\n",
    "2. 코드 관리 : 큰 프로그램을 작은 모듈로 나누어 관리할 수 있다.\n",
    "3. 네임스페이스 : 모듈마다 독립적인 네임스페이스를 제공하여 변수 이름 충돌을 방지할 수 있다."
   ]
  },
  {
   "cell_type": "code",
   "execution_count": 1,
   "metadata": {},
   "outputs": [
    {
     "name": "stdout",
     "output_type": "stream",
     "text": [
      "국내 최강 IT 전문 교육 강사팀\n",
      "크왕\n"
     ]
    }
   ],
   "source": [
    "from ohgiraffers_module import gorilla, ohgiraffers\n",
    "\n",
    "print(ohgiraffers)\n",
    "print(gorilla())"
   ]
  },
  {
   "cell_type": "code",
   "execution_count": 2,
   "metadata": {},
   "outputs": [
    {
     "name": "stdout",
     "output_type": "stream",
     "text": [
      "국내 최강 IT 전문 교육 강사팀\n",
      "어흥\n"
     ]
    }
   ],
   "source": [
    "import ohgiraffers_module\n",
    "\n",
    "print(ohgiraffers_module.ohgiraffers)\n",
    "print(ohgiraffers_module.tiger())"
   ]
  },
  {
   "cell_type": "code",
   "execution_count": 3,
   "metadata": {},
   "outputs": [
    {
     "name": "stdout",
     "output_type": "stream",
     "text": [
      "어흥\n"
     ]
    }
   ],
   "source": [
    "import ohgiraffers_module as OGModule\n",
    "\n",
    "print(OGModule.tiger())"
   ]
  },
  {
   "cell_type": "code",
   "execution_count": 4,
   "metadata": {},
   "outputs": [
    {
     "name": "stdout",
     "output_type": "stream",
     "text": [
      "국내 최강 IT 전문 교육 강사팀\n",
      "크왕\n"
     ]
    }
   ],
   "source": [
    "from ohgiraffers_module import ohgiraffers as OG, gorilla as grl\n",
    "\n",
    "print(OG)\n",
    "print(grl())"
   ]
  },
  {
   "cell_type": "code",
   "execution_count": 6,
   "metadata": {},
   "outputs": [
    {
     "name": "stdout",
     "output_type": "stream",
     "text": [
      "3.141592653589793\n",
      "120\n"
     ]
    }
   ],
   "source": [
    "import math\n",
    "\n",
    "print(math.pi)\n",
    "print(math.factorial(5))"
   ]
  },
  {
   "cell_type": "markdown",
   "metadata": {},
   "source": [
    "# 02. 패키지\n",
    "## 02-01. 패키지 개요\n",
    "### 02-01-01. 패키지란\n",
    "> 관련있는 함수, 클래스, 변수 등을 묶어 만든 모듈을 폴더라 관리하여 구분하는 것이다. 모듈 하나 이상을 가지고 있는 폴터를 패키지라고 부른다.\n"
   ]
  },
  {
   "cell_type": "code",
   "execution_count": 8,
   "metadata": {},
   "outputs": [
    {
     "name": "stdout",
     "output_type": "stream",
     "text": [
      "국내 최강 IT 전문 교육 강사팀\n",
      "어흥\n"
     ]
    }
   ],
   "source": [
    "import ohgiraffers.team.teachers_module\n",
    "\n",
    "print(ohgiraffers.team.teachers_module.ohgiraffers)\n",
    "print(ohgiraffers.team.teachers_module.tiger())"
   ]
  },
  {
   "cell_type": "code",
   "execution_count": 9,
   "metadata": {},
   "outputs": [
    {
     "name": "stdout",
     "output_type": "stream",
     "text": [
      "크왕\n"
     ]
    }
   ],
   "source": [
    "from ohgiraffers.team import teachers_module\n",
    "\n",
    "print(teachers_module.gorilla())"
   ]
  }
 ],
 "metadata": {
  "kernelspec": {
   "display_name": "pystudy_env",
   "language": "python",
   "name": "python3"
  },
  "language_info": {
   "codemirror_mode": {
    "name": "ipython",
    "version": 3
   },
   "file_extension": ".py",
   "mimetype": "text/x-python",
   "name": "python",
   "nbconvert_exporter": "python",
   "pygments_lexer": "ipython3",
   "version": "3.12.5"
  }
 },
 "nbformat": 4,
 "nbformat_minor": 2
}
