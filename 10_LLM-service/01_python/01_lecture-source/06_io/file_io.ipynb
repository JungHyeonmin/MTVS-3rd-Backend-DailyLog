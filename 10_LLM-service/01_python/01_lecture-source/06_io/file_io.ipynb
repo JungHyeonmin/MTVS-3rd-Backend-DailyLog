{
 "cells": [
  {
   "cell_type": "markdown",
   "metadata": {},
   "source": [
    "# 01. 파일 입출력"
   ]
  },
  {
   "cell_type": "markdown",
   "metadata": {},
   "source": [
    "## 01-01. 파일 접근\n",
    "### 01-01-01. 파일 열기"
   ]
  },
  {
   "cell_type": "code",
   "execution_count": 8,
   "metadata": {},
   "outputs": [
    {
     "name": "stdout",
     "output_type": "stream",
     "text": [
      "개구리 소년 빰빠바 개구리 노션 빰빠바\n",
      "네가 울면 무지개 연못에 비가 온단다\n",
      "비바람 몰아쳐도 이겨내고\n",
      "일곱번 넘어져도 일어나라\n",
      "울지말고 일어나 피리를 불어라\n",
      "삘릴리 개굴개굴 삘릴릴리\n",
      "삘릴리 개굴개굴 삘릴릴리\n",
      "무지개 연못에 웃음꽃 핀다.\n"
     ]
    }
   ],
   "source": [
    "f = open(\"./frog_song.txt\", \"r\")\n",
    "\n",
    "# line = f.readline()\n",
    "# print(line)\n",
    "\n",
    "# while True:\n",
    "#     line = f.readline()\n",
    "\n",
    "#     if not line:\n",
    "#         break\n",
    "    \n",
    "#     print(line)\n",
    "\n",
    "# f.close()\n",
    "\n",
    "# lines = f.readlines()\n",
    "# print(lines)\n",
    "\n",
    "data = f.read()\n",
    "print(data)"
   ]
  },
  {
   "cell_type": "code",
   "execution_count": 14,
   "metadata": {},
   "outputs": [
    {
     "name": "stdout",
     "output_type": "stream",
     "text": [
      "개구리 소년 빰빠바 개구리 노션 빰빠바\n",
      "네가 울면 무지개 연못에 비가 온단다\n",
      "비바람 몰아쳐도 이겨내고\n",
      "일곱번 넘어져도 일어나라\n",
      "울지말고 일어나 피리를 불어라\n",
      "삘릴리 개굴개굴 삘릴릴리\n",
      "삘릴리 개굴개굴 삘릴릴리\n",
      "무지개 연못에 웃음꽃 핀다.노래 끝노래 끝노래 끝노래 끝노래 끝노래 끝\n"
     ]
    }
   ],
   "source": [
    "f2 = open('./frog_song.txt', 'a')   # w는 덮어쓰기, a는 이어쓰기\n",
    "f2.write(\"노래 끝\")\n",
    "f2.close()\n",
    "\n",
    "f3 = open('./frog_song.txt', 'r')\n",
    "data = f3.read()\n",
    "print(data)\n",
    "f3.close()"
   ]
  },
  {
   "cell_type": "markdown",
   "metadata": {},
   "source": [
    "- with문"
   ]
  },
  {
   "cell_type": "code",
   "execution_count": 15,
   "metadata": {},
   "outputs": [
    {
     "name": "stdout",
     "output_type": "stream",
     "text": [
      "개구리 소년 빰빠바 개구리 노션 빰빠바\n",
      "\n"
     ]
    }
   ],
   "source": [
    "with open('./frog_song.txt', \"r\") as f:\n",
    "    print(f.readline())"
   ]
  }
 ],
 "metadata": {
  "kernelspec": {
   "display_name": "pystudy_env",
   "language": "python",
   "name": "python3"
  },
  "language_info": {
   "codemirror_mode": {
    "name": "ipython",
    "version": 3
   },
   "file_extension": ".py",
   "mimetype": "text/x-python",
   "name": "python",
   "nbconvert_exporter": "python",
   "pygments_lexer": "ipython3",
   "version": "3.12.5"
  }
 },
 "nbformat": 4,
 "nbformat_minor": 2
}
