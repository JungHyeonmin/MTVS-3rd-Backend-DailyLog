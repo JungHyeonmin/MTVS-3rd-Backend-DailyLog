{
 "cells": [
  {
   "cell_type": "markdown",
   "metadata": {},
   "source": [
    "# 01. 조건문\n",
    "## 01-01. 조건문 개요\n",
    "## 01-02. 조건문 if\n",
    "### 01-02-01. if"
   ]
  },
  {
   "cell_type": "code",
   "execution_count": 4,
   "metadata": {},
   "outputs": [
    {
     "name": "stdout",
     "output_type": "stream",
     "text": [
      "우리 선생님은 호랑이 선생님 입니다.\n",
      "우리 선생님은 호랑이 선생님 입니다.\n",
      "종료\n"
     ]
    }
   ],
   "source": [
    "my_teacher = \"tiger\"\n",
    "\n",
    "if my_teacher == \"tiger\":\n",
    "    print(\"우리 선생님은 호랑이 선생님 입니다.\")\n",
    "    print(\"우리 선생님은 호랑이 선생님 입니다.\")\n",
    "\n",
    "print(\"종료\")"
   ]
  },
  {
   "cell_type": "code",
   "execution_count": 5,
   "metadata": {},
   "outputs": [],
   "source": [
    "\n",
    "if my_teacher == \"monkey\":\n",
    "    print(\"우리 선생님은 원숭이 선생님 입니다.\")\n"
   ]
  },
  {
   "cell_type": "markdown",
   "metadata": {},
   "source": [
    "### 01-02-02. else (if- else)"
   ]
  },
  {
   "cell_type": "code",
   "execution_count": 6,
   "metadata": {},
   "outputs": [
    {
     "name": "stdout",
     "output_type": "stream",
     "text": [
      "우리 선생님은 호랑이 선생님 입니다.\n"
     ]
    }
   ],
   "source": [
    "my_teacher = \"tiger\"\n",
    "\n",
    "if my_teacher == \"tiger\":\n",
    "    print(\"우리 선생님은 호랑이 선생님 입니다.\")\n",
    "else:\n",
    "    print(\"우리 선생님은 호랑이 선생님이 아닙니다.\")"
   ]
  },
  {
   "cell_type": "markdown",
   "metadata": {},
   "source": [
    "### 01-02-03. elif (if -elif -else)"
   ]
  },
  {
   "cell_type": "code",
   "execution_count": 7,
   "metadata": {},
   "outputs": [
    {
     "name": "stdout",
     "output_type": "stream",
     "text": [
      "우리 선생님은 호랑이 선생님입니다.\n"
     ]
    }
   ],
   "source": [
    "my_teacher = \"tiger\"\n",
    "\n",
    "if my_teacher == \"tiger\":\n",
    "    print(\"우리 선생님은 호랑이 선생님입니다.\")\n",
    "elif my_teacher == \"monkey\":\n",
    "    print(\"우리 선생님은 원숭이 선생님입니다.\")\n",
    "else:\n",
    "    print(\"우리 선생님은 호랑이도 원숭이도 아닙니다.\")"
   ]
  },
  {
   "cell_type": "markdown",
   "metadata": {},
   "source": [
    "## 01-03. 조건문 match"
   ]
  },
  {
   "cell_type": "markdown",
   "metadata": {},
   "source": [
    "### 01-03-01. match-case"
   ]
  },
  {
   "cell_type": "code",
   "execution_count": 8,
   "metadata": {},
   "outputs": [
    {
     "name": "stdout",
     "output_type": "stream",
     "text": [
      "=== ohgiraffers vending machin ===\n",
      "tiger : 우리는 1인 24시간 교대제 입니다.\n",
      "monkey : 24시간 문의 환영\n",
      "rabbit : 살아남는 사람이 강한 사람입니다.\n",
      "==================================\n",
      "만나고 싶은 선생님을 입력해주세요 : \n",
      "==================================\n",
      "호랑이 선생님의 메타버스에 오신 것을 환영합니다.\n",
      "매일 0시간의 수면이 예상됩니다.\n"
     ]
    }
   ],
   "source": [
    "print(\"=== ohgiraffers vending machin ===\")\n",
    "print(\"tiger : 우리는 1인 24시간 교대제 입니다.\")\n",
    "print(\"monkey : 24시간 문의 환영\")\n",
    "print(\"rabbit : 살아남는 사람이 강한 사람입니다.\")\n",
    "print(\"==================================\")\n",
    "print(\"만나고 싶은 선생님을 입력해주세요 : \")\n",
    "\n",
    "input_teacher = input()\n",
    "print(\"==================================\")\n",
    "\n",
    "sleep_time = 0\n",
    "\n",
    "match input_teacher:\n",
    "    case \"tiger\":\n",
    "        print(\"호랑이 선생님의 메타버스에 오신 것을 환영합니다.\")\n",
    "        sleep_time = 0\n",
    "    case \"monkey\":\n",
    "        print(\"원숭이 선생님의 정글에 오신 것을 환영합니다.\")\n",
    "        sleep_time = 0\n",
    "    case \"rabbit\":\n",
    "        print(\"토끼 선생님의 전쟁터에 오신 것을 환영합니다.\")\n",
    "        sleep_time = 0\n",
    "    case _:\n",
    "        print(\"공부할 생각이 없으신가요?\")\n",
    "\n",
    "print(\"매일 \" + str(sleep_time) + \"시간의 수면이 예상됩니다.\")"
   ]
  }
 ],
 "metadata": {
  "kernelspec": {
   "display_name": "pystudy_env",
   "language": "python",
   "name": "python3"
  },
  "language_info": {
   "codemirror_mode": {
    "name": "ipython",
    "version": 3
   },
   "file_extension": ".py",
   "mimetype": "text/x-python",
   "name": "python",
   "nbconvert_exporter": "python",
   "pygments_lexer": "ipython3",
   "version": "3.12.5"
  }
 },
 "nbformat": 4,
 "nbformat_minor": 2
}
