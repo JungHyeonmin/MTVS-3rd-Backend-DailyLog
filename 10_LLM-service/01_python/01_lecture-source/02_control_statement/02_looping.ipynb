{
 "cells": [
  {
   "cell_type": "markdown",
   "metadata": {},
   "source": [
    "# 02. 반복문\n",
    "## 02-01. 반복문 개요\n",
    "## 02-02. 반복문 for\n",
    "\n",
    "### 02-02-01. for-in\n",
    "- for문의 표현식에서 객체는 일반적으로 문자열, 리스트, 튜플, 딕셔너리를 의미한다."
   ]
  },
  {
   "cell_type": "markdown",
   "metadata": {},
   "source": [
    "for 변수 in 객체:\n",
    "    (실행 구문)"
   ]
  },
  {
   "cell_type": "code",
   "execution_count": 2,
   "metadata": {},
   "outputs": [
    {
     "name": "stdout",
     "output_type": "stream",
     "text": [
      "pig\n",
      "bear\n",
      "gorilla\n",
      "squirrel\n"
     ]
    }
   ],
   "source": [
    "ohgiraffers = ['pig', 'bear', 'gorilla', 'squirrel']\n",
    "\n",
    "for teacher in ohgiraffers:\n",
    "    print(teacher)"
   ]
  },
  {
   "cell_type": "code",
   "execution_count": 3,
   "metadata": {},
   "outputs": [
    {
     "name": "stdout",
     "output_type": "stream",
     "text": [
      "o\n",
      "h\n",
      "g\n",
      "i\n",
      "r\n",
      "a\n",
      "f\n",
      "f\n",
      "e\n",
      "r\n",
      "s\n"
     ]
    }
   ],
   "source": [
    "for word in 'ohgiraffers':\n",
    "    print(word)"
   ]
  },
  {
   "cell_type": "code",
   "execution_count": 4,
   "metadata": {},
   "outputs": [
    {
     "name": "stdout",
     "output_type": "stream",
     "text": [
      "bear\n",
      "tiger\n",
      "monkey\n"
     ]
    }
   ],
   "source": [
    "for x in {\"bear\": \"곰\", \"tiger\": \"호랑이\", \"monkey\": \"원숭이\"}:\n",
    "    print(x)"
   ]
  },
  {
   "cell_type": "code",
   "execution_count": 5,
   "metadata": {},
   "outputs": [
    {
     "name": "stdout",
     "output_type": "stream",
     "text": [
      "1 2\n",
      "3 4\n",
      "5 6\n"
     ]
    }
   ],
   "source": [
    "for [x, y] in [[1, 2], [3, 4], [5, 6]]:\n",
    "    print(x, y)"
   ]
  },
  {
   "cell_type": "code",
   "execution_count": 7,
   "metadata": {},
   "outputs": [
    {
     "data": {
      "text/plain": [
       "['ak', 'bk', 'ck', 'dk', 'ek']"
      ]
     },
     "execution_count": 7,
     "metadata": {},
     "output_type": "execute_result"
    }
   ],
   "source": [
    "a = \"abcde\"\n",
    "b = [val + 'k' for val in a]\n",
    "b"
   ]
  },
  {
   "cell_type": "markdown",
   "metadata": {},
   "source": [
    "### 02-02-02. range()\n",
    "- range는 일련의 숫자를 반복해야 하는 경우 사용하는 함수로, 숫자 배열을 생성하여 for-in에 사용하는 것 과 같다.\n",
    "- 인자 1개 = 반복 횟수\n",
    "- 인자 2개 = 생성할 숫자 배열의 시작값과 끝값 지정\n",
    "- 인자 3개 = 생성할 숫자 배열의 시작값과 끝값, 증감 크기 지정"
   ]
  },
  {
   "cell_type": "code",
   "execution_count": 10,
   "metadata": {},
   "outputs": [
    {
     "name": "stdout",
     "output_type": "stream",
     "text": [
      "1\n",
      "3\n"
     ]
    }
   ],
   "source": [
    "for x in range(1, 5, 2):\n",
    "    print(x)"
   ]
  },
  {
   "cell_type": "markdown",
   "metadata": {},
   "source": [
    "1. 인덱스의 길이만큼 반복하려면 range()와 ren()을 같이 사용할 수 있다."
   ]
  },
  {
   "cell_type": "code",
   "execution_count": 11,
   "metadata": {},
   "outputs": [
    {
     "name": "stdout",
     "output_type": "stream",
     "text": [
      "0 i\n",
      "1 am\n",
      "2 a\n",
      "3 pig\n"
     ]
    }
   ],
   "source": [
    "introduce = [\"i\", \"am\", \"a\", \"pig\"]\n",
    "\n",
    "for idx in range(len(introduce)):\n",
    "    print(idx, introduce[idx])"
   ]
  },
  {
   "cell_type": "markdown",
   "metadata": {},
   "source": [
    "2. range()를 단독으로 사용하면 그냥 텍스트 자체로 출력된다."
   ]
  },
  {
   "cell_type": "code",
   "execution_count": 12,
   "metadata": {},
   "outputs": [
    {
     "data": {
      "text/plain": [
       "range(0, 10)"
      ]
     },
     "execution_count": 12,
     "metadata": {},
     "output_type": "execute_result"
    }
   ],
   "source": [
    "range(10)"
   ]
  },
  {
   "cell_type": "markdown",
   "metadata": {},
   "source": [
    "3. 연속적인 항목을 얻는 함수나 구성의 대상으로 활용하기에 적합하다"
   ]
  },
  {
   "cell_type": "code",
   "execution_count": 13,
   "metadata": {},
   "outputs": [
    {
     "data": {
      "text/plain": [
       "6"
      ]
     },
     "execution_count": 13,
     "metadata": {},
     "output_type": "execute_result"
    }
   ],
   "source": [
    "sum(range(4))           # 0 + 1 + 2 + 3"
   ]
  },
  {
   "cell_type": "markdown",
   "metadata": {},
   "source": [
    "## 02-03. 반복문 while\n",
    "### 02-03-01. while"
   ]
  },
  {
   "cell_type": "code",
   "execution_count": 14,
   "metadata": {},
   "outputs": [
    {
     "name": "stdout",
     "output_type": "stream",
     "text": [
      "1\n",
      "2\n",
      "3\n",
      "4\n",
      "5\n",
      "6\n",
      "7\n",
      "8\n",
      "9\n",
      "10\n"
     ]
    }
   ],
   "source": [
    "i = 1\n",
    "while i <= 10:\n",
    "    print(i)\n",
    "    i += 1"
   ]
  }
 ],
 "metadata": {
  "kernelspec": {
   "display_name": "pystudy_env",
   "language": "python",
   "name": "python3"
  },
  "language_info": {
   "codemirror_mode": {
    "name": "ipython",
    "version": 3
   },
   "file_extension": ".py",
   "mimetype": "text/x-python",
   "name": "python",
   "nbconvert_exporter": "python",
   "pygments_lexer": "ipython3",
   "version": "3.12.5"
  }
 },
 "nbformat": 4,
 "nbformat_minor": 2
}
