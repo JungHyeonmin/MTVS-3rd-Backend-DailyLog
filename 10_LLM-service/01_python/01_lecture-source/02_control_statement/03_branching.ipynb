{
 "cells": [
  {
   "cell_type": "markdown",
   "metadata": {},
   "source": [
    "# 03. 분기문\n",
    "## 03-01. 분기문 개요\n",
    "### 03-01-01. 분기문이란\n",
    "\n",
    "## 03-02. 분기문의 종류\n",
    "### 03-02-01. break"
   ]
  },
  {
   "cell_type": "code",
   "execution_count": 6,
   "metadata": {},
   "outputs": [
    {
     "name": "stdout",
     "output_type": "stream",
     "text": [
      "앞 1\n",
      "뒤 1\n",
      "앞 2\n",
      "if 2\n"
     ]
    }
   ],
   "source": [
    "for x in [1,2,3]:\n",
    "    print(\"앞\", x)\n",
    "    \n",
    "    if x == 2:\n",
    "        print(\"if\",x)\n",
    "        break\n",
    "    \n",
    "    print(\"뒤\", x)"
   ]
  },
  {
   "cell_type": "markdown",
   "metadata": {},
   "source": [
    "### 03-02-02.continue"
   ]
  },
  {
   "cell_type": "code",
   "execution_count": 8,
   "metadata": {},
   "outputs": [
    {
     "name": "stdout",
     "output_type": "stream",
     "text": [
      "앞 0\n",
      "뒤 0\n",
      "앞 1\n",
      "if 1\n",
      "앞 2\n",
      "뒤 2\n"
     ]
    }
   ],
   "source": [
    "for x in range(3):\n",
    "    print(\"앞\", x)\n",
    "    \n",
    "    if x == 1:\n",
    "        print(\"if\",x)\n",
    "        continue # 다시 위로 올라가서 x + 1\n",
    "    \n",
    "    print(\"뒤\", x)"
   ]
  }
 ],
 "metadata": {
  "kernelspec": {
   "display_name": "base",
   "language": "python",
   "name": "python3"
  },
  "language_info": {
   "codemirror_mode": {
    "name": "ipython",
    "version": 3
   },
   "file_extension": ".py",
   "mimetype": "text/x-python",
   "name": "python",
   "nbconvert_exporter": "python",
   "pygments_lexer": "ipython3",
   "version": "3.10.14"
  }
 },
 "nbformat": 4,
 "nbformat_minor": 2
}
